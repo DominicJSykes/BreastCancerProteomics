{
 "cells": [
  {
   "cell_type": "code",
   "execution_count": 1,
   "metadata": {
    "collapsed": false,
    "scrolled": true
   },
   "outputs": [],
   "source": [
    "#Dataset\n",
    "#import needed libraries\n",
    "import pandas as pd\n",
    "import numpy as np\n",
    "import matplotlib.pyplot as plt\n",
    "%matplotlib inline\n",
    "\n",
    "#read in csv data\n",
    "prot_data = pd.read_csv(\"77_cancer_proteomes_CPTAC_itraq.csv\")\n",
    "clin_data_original = pd.read_csv(\"clinical_data_breast_cancer.csv\",index_col = \"Complete TCGA ID\")"
   ]
  },
  {
   "cell_type": "code",
   "execution_count": 2,
   "metadata": {
    "collapsed": false,
    "scrolled": true
   },
   "outputs": [
    {
     "name": "stdout",
     "output_type": "stream",
     "text": [
      "Number of Samples in Clinical Data: 105\n"
     ]
    },
    {
     "data": {
      "text/html": [
       "<div>\n",
       "<table border=\"1\" class=\"dataframe\">\n",
       "  <thead>\n",
       "    <tr style=\"text-align: right;\">\n",
       "      <th></th>\n",
       "      <th>Frequency</th>\n",
       "    </tr>\n",
       "  </thead>\n",
       "  <tbody>\n",
       "    <tr>\n",
       "      <th>Stage IV</th>\n",
       "      <td>2</td>\n",
       "    </tr>\n",
       "    <tr>\n",
       "      <th>Stage IB</th>\n",
       "      <td>2</td>\n",
       "    </tr>\n",
       "    <tr>\n",
       "      <th>Stage I</th>\n",
       "      <td>3</td>\n",
       "    </tr>\n",
       "    <tr>\n",
       "      <th>Stage III</th>\n",
       "      <td>3</td>\n",
       "    </tr>\n",
       "    <tr>\n",
       "      <th>Stage IIIC</th>\n",
       "      <td>6</td>\n",
       "    </tr>\n",
       "    <tr>\n",
       "      <th>Stage IIIB</th>\n",
       "      <td>6</td>\n",
       "    </tr>\n",
       "    <tr>\n",
       "      <th>Stage IA</th>\n",
       "      <td>7</td>\n",
       "    </tr>\n",
       "    <tr>\n",
       "      <th>Stage II</th>\n",
       "      <td>11</td>\n",
       "    </tr>\n",
       "    <tr>\n",
       "      <th>Stage IIIA</th>\n",
       "      <td>12</td>\n",
       "    </tr>\n",
       "    <tr>\n",
       "      <th>Stage IIB</th>\n",
       "      <td>23</td>\n",
       "    </tr>\n",
       "    <tr>\n",
       "      <th>Stage IIA</th>\n",
       "      <td>30</td>\n",
       "    </tr>\n",
       "  </tbody>\n",
       "</table>\n",
       "</div>"
      ],
      "text/plain": [
       "            Frequency\n",
       "Stage IV            2\n",
       "Stage IB            2\n",
       "Stage I             3\n",
       "Stage III           3\n",
       "Stage IIIC          6\n",
       "Stage IIIB          6\n",
       "Stage IA            7\n",
       "Stage II           11\n",
       "Stage IIIA         12\n",
       "Stage IIB          23\n",
       "Stage IIA          30"
      ]
     },
     "execution_count": 2,
     "metadata": {},
     "output_type": "execute_result"
    }
   ],
   "source": [
    "#Table of frequencies of target values\n",
    "print \"Number of Samples in Clinical Data:\", len(pd.DataFrame(clin_data_original['AJCC Stage']))\n",
    "\n",
    "freq_target_variable = pd.DataFrame(clin_data_original['AJCC Stage'].value_counts(ascending=True))\n",
    "freq_target_variable.columns = ['Frequency']\n",
    "freq_target_variable"
   ]
  },
  {
   "cell_type": "code",
   "execution_count": 3,
   "metadata": {
    "collapsed": false
   },
   "outputs": [
    {
     "data": {
      "text/plain": [
       "<matplotlib.text.Text at 0x115437f90>"
      ]
     },
     "execution_count": 3,
     "metadata": {},
     "output_type": "execute_result"
    },
    {
     "data": {
      "image/png": "[encoded data removed]",
      "text/plain": [
       "<matplotlib.figure.Figure at 0x10401f310>"
      ]
     },
     "metadata": {},
     "output_type": "display_data"
    }
   ],
   "source": [
    "#Plot frequencies of target categories\n",
    "freq_stage_raw = clin_data_original['AJCC Stage'].value_counts(ascending=True)\n",
    "\n",
    "freq_stage_raw = freq_stage_raw.plot(kind='bar')\n",
    "freq_stage_raw.set_xlabel(\"AJCC Stage Of Cancer\")\n",
    "freq_stage_raw.set_ylabel(\"Frequency In Data Set\")\n",
    "freq_stage_raw.set_title(\"Frequencies Of AJCC Stages In Dataset\")"
   ]
  },
  {
   "cell_type": "code",
   "execution_count": 4,
   "metadata": {
    "collapsed": false
   },
   "outputs": [
    {
     "name": "stdout",
     "output_type": "stream",
     "text": [
      "Number Of Samples in Protein Data: 86\n"
     ]
    },
    {
     "data": {
      "text/html": [
       "<div>\n",
       "<table border=\"1\" class=\"dataframe\">\n",
       "  <thead>\n",
       "    <tr style=\"text-align: right;\">\n",
       "      <th></th>\n",
       "      <th>AO-A12D.01TCGA</th>\n",
       "      <th>C8-A131.01TCGA</th>\n",
       "      <th>AO-A12B.01TCGA</th>\n",
       "      <th>BH-A18Q.02TCGA</th>\n",
       "      <th>C8-A130.02TCGA</th>\n",
       "      <th>C8-A138.03TCGA</th>\n",
       "      <th>E2-A154.03TCGA</th>\n",
       "      <th>C8-A12L.04TCGA</th>\n",
       "      <th>A2-A0EX.04TCGA</th>\n",
       "      <th>AO-A12D.05TCGA</th>\n",
       "      <th>...</th>\n",
       "      <th>AO-A12B.34TCGA</th>\n",
       "      <th>A2-A0SW.35TCGA</th>\n",
       "      <th>AO-A0JL.35TCGA</th>\n",
       "      <th>BH-A0BV.35TCGA</th>\n",
       "      <th>A2-A0YM.36TCGA</th>\n",
       "      <th>BH-A0C7.36TCGA</th>\n",
       "      <th>A2-A0SX.36TCGA</th>\n",
       "      <th>263d3f-I.CPTAC</th>\n",
       "      <th>blcdb9-I.CPTAC</th>\n",
       "      <th>c4155b-C.CPTAC</th>\n",
       "    </tr>\n",
       "  </thead>\n",
       "  <tbody>\n",
       "    <tr>\n",
       "      <th>count</th>\n",
       "      <td>11334.00</td>\n",
       "      <td>11335.00</td>\n",
       "      <td>11334.00</td>\n",
       "      <td>12024.00</td>\n",
       "      <td>12025.00</td>\n",
       "      <td>11833.00</td>\n",
       "      <td>11833.00</td>\n",
       "      <td>11732.00</td>\n",
       "      <td>11732.00</td>\n",
       "      <td>11276.00</td>\n",
       "      <td>...</td>\n",
       "      <td>11477.00</td>\n",
       "      <td>10324.00</td>\n",
       "      <td>10324.00</td>\n",
       "      <td>10324.00</td>\n",
       "      <td>9694.00</td>\n",
       "      <td>9693.00</td>\n",
       "      <td>9697.00</td>\n",
       "      <td>10912.00</td>\n",
       "      <td>10885.00</td>\n",
       "      <td>10913.00</td>\n",
       "    </tr>\n",
       "    <tr>\n",
       "      <th>mean</th>\n",
       "      <td>0.13</td>\n",
       "      <td>0.13</td>\n",
       "      <td>-0.44</td>\n",
       "      <td>-0.73</td>\n",
       "      <td>-0.04</td>\n",
       "      <td>0.12</td>\n",
       "      <td>-0.62</td>\n",
       "      <td>-0.31</td>\n",
       "      <td>-0.02</td>\n",
       "      <td>0.08</td>\n",
       "      <td>...</td>\n",
       "      <td>-0.68</td>\n",
       "      <td>-0.10</td>\n",
       "      <td>-0.02</td>\n",
       "      <td>-0.10</td>\n",
       "      <td>0.49</td>\n",
       "      <td>-0.37</td>\n",
       "      <td>-0.05</td>\n",
       "      <td>0.07</td>\n",
       "      <td>-0.30</td>\n",
       "      <td>0.31</td>\n",
       "    </tr>\n",
       "    <tr>\n",
       "      <th>std</th>\n",
       "      <td>1.73</td>\n",
       "      <td>1.58</td>\n",
       "      <td>1.63</td>\n",
       "      <td>2.42</td>\n",
       "      <td>1.35</td>\n",
       "      <td>1.65</td>\n",
       "      <td>2.28</td>\n",
       "      <td>1.57</td>\n",
       "      <td>1.65</td>\n",
       "      <td>1.75</td>\n",
       "      <td>...</td>\n",
       "      <td>2.02</td>\n",
       "      <td>1.57</td>\n",
       "      <td>1.66</td>\n",
       "      <td>1.63</td>\n",
       "      <td>1.66</td>\n",
       "      <td>1.45</td>\n",
       "      <td>1.72</td>\n",
       "      <td>1.95</td>\n",
       "      <td>1.31</td>\n",
       "      <td>1.71</td>\n",
       "    </tr>\n",
       "    <tr>\n",
       "      <th>min</th>\n",
       "      <td>-12.47</td>\n",
       "      <td>-13.16</td>\n",
       "      <td>-9.91</td>\n",
       "      <td>-24.55</td>\n",
       "      <td>-15.00</td>\n",
       "      <td>-12.96</td>\n",
       "      <td>-16.64</td>\n",
       "      <td>-18.71</td>\n",
       "      <td>-14.71</td>\n",
       "      <td>-13.44</td>\n",
       "      <td>...</td>\n",
       "      <td>-12.50</td>\n",
       "      <td>-12.15</td>\n",
       "      <td>-11.87</td>\n",
       "      <td>-11.13</td>\n",
       "      <td>-8.77</td>\n",
       "      <td>-10.43</td>\n",
       "      <td>-12.97</td>\n",
       "      <td>-12.61</td>\n",
       "      <td>-9.06</td>\n",
       "      <td>-6.33</td>\n",
       "    </tr>\n",
       "    <tr>\n",
       "      <th>25%</th>\n",
       "      <td>-0.66</td>\n",
       "      <td>-0.58</td>\n",
       "      <td>-1.33</td>\n",
       "      <td>-1.27</td>\n",
       "      <td>-0.67</td>\n",
       "      <td>-0.68</td>\n",
       "      <td>-1.28</td>\n",
       "      <td>-0.99</td>\n",
       "      <td>-0.72</td>\n",
       "      <td>-0.73</td>\n",
       "      <td>...</td>\n",
       "      <td>-1.73</td>\n",
       "      <td>-0.82</td>\n",
       "      <td>-0.74</td>\n",
       "      <td>-0.81</td>\n",
       "      <td>-0.50</td>\n",
       "      <td>-1.06</td>\n",
       "      <td>-0.93</td>\n",
       "      <td>-0.87</td>\n",
       "      <td>-1.06</td>\n",
       "      <td>-0.65</td>\n",
       "    </tr>\n",
       "    <tr>\n",
       "      <th>50%</th>\n",
       "      <td>0.08</td>\n",
       "      <td>0.12</td>\n",
       "      <td>-0.32</td>\n",
       "      <td>-0.30</td>\n",
       "      <td>0.02</td>\n",
       "      <td>0.09</td>\n",
       "      <td>-0.16</td>\n",
       "      <td>-0.23</td>\n",
       "      <td>0.04</td>\n",
       "      <td>0.05</td>\n",
       "      <td>...</td>\n",
       "      <td>-0.44</td>\n",
       "      <td>-0.06</td>\n",
       "      <td>0.02</td>\n",
       "      <td>-0.04</td>\n",
       "      <td>0.31</td>\n",
       "      <td>-0.20</td>\n",
       "      <td>-0.08</td>\n",
       "      <td>0.05</td>\n",
       "      <td>-0.19</td>\n",
       "      <td>0.14</td>\n",
       "    </tr>\n",
       "    <tr>\n",
       "      <th>75%</th>\n",
       "      <td>0.91</td>\n",
       "      <td>0.85</td>\n",
       "      <td>0.49</td>\n",
       "      <td>0.45</td>\n",
       "      <td>0.72</td>\n",
       "      <td>0.93</td>\n",
       "      <td>0.67</td>\n",
       "      <td>0.48</td>\n",
       "      <td>0.75</td>\n",
       "      <td>0.86</td>\n",
       "      <td>...</td>\n",
       "      <td>0.50</td>\n",
       "      <td>0.66</td>\n",
       "      <td>0.80</td>\n",
       "      <td>0.71</td>\n",
       "      <td>1.28</td>\n",
       "      <td>0.52</td>\n",
       "      <td>0.76</td>\n",
       "      <td>1.01</td>\n",
       "      <td>0.57</td>\n",
       "      <td>1.06</td>\n",
       "    </tr>\n",
       "    <tr>\n",
       "      <th>max</th>\n",
       "      <td>17.62</td>\n",
       "      <td>12.68</td>\n",
       "      <td>8.29</td>\n",
       "      <td>11.79</td>\n",
       "      <td>6.93</td>\n",
       "      <td>10.60</td>\n",
       "      <td>10.08</td>\n",
       "      <td>8.80</td>\n",
       "      <td>9.55</td>\n",
       "      <td>13.07</td>\n",
       "      <td>...</td>\n",
       "      <td>8.84</td>\n",
       "      <td>10.69</td>\n",
       "      <td>11.31</td>\n",
       "      <td>12.64</td>\n",
       "      <td>11.16</td>\n",
       "      <td>7.89</td>\n",
       "      <td>11.52</td>\n",
       "      <td>16.18</td>\n",
       "      <td>6.44</td>\n",
       "      <td>10.50</td>\n",
       "    </tr>\n",
       "  </tbody>\n",
       "</table>\n",
       "<p>8 rows × 83 columns</p>\n",
       "</div>"
      ],
      "text/plain": [
       "       AO-A12D.01TCGA  C8-A131.01TCGA  AO-A12B.01TCGA  BH-A18Q.02TCGA  \\\n",
       "count        11334.00        11335.00        11334.00        12024.00   \n",
       "mean             0.13            0.13           -0.44           -0.73   \n",
       "std              1.73            1.58            1.63            2.42   \n",
       "min            -12.47          -13.16           -9.91          -24.55   \n",
       "25%             -0.66           -0.58           -1.33           -1.27   \n",
       "50%              0.08            0.12           -0.32           -0.30   \n",
       "75%              0.91            0.85            0.49            0.45   \n",
       "max             17.62           12.68            8.29           11.79   \n",
       "\n",
       "       C8-A130.02TCGA  C8-A138.03TCGA  E2-A154.03TCGA  C8-A12L.04TCGA  \\\n",
       "count        12025.00        11833.00        11833.00        11732.00   \n",
       "mean            -0.04            0.12           -0.62           -0.31   \n",
       "std              1.35            1.65            2.28            1.57   \n",
       "min            -15.00          -12.96          -16.64          -18.71   \n",
       "25%             -0.67           -0.68           -1.28           -0.99   \n",
       "50%              0.02            0.09           -0.16           -0.23   \n",
       "75%              0.72            0.93            0.67            0.48   \n",
       "max              6.93           10.60           10.08            8.80   \n",
       "\n",
       "       A2-A0EX.04TCGA  AO-A12D.05TCGA       ...        AO-A12B.34TCGA  \\\n",
       "count        11732.00        11276.00       ...              11477.00   \n",
       "mean            -0.02            0.08       ...                 -0.68   \n",
       "std              1.65            1.75       ...                  2.02   \n",
       "min            -14.71          -13.44       ...                -12.50   \n",
       "25%             -0.72           -0.73       ...                 -1.73   \n",
       "50%              0.04            0.05       ...                 -0.44   \n",
       "75%              0.75            0.86       ...                  0.50   \n",
       "max              9.55           13.07       ...                  8.84   \n",
       "\n",
       "       A2-A0SW.35TCGA  AO-A0JL.35TCGA  BH-A0BV.35TCGA  A2-A0YM.36TCGA  \\\n",
       "count        10324.00        10324.00        10324.00         9694.00   \n",
       "mean            -0.10           -0.02           -0.10            0.49   \n",
       "std              1.57            1.66            1.63            1.66   \n",
       "min            -12.15          -11.87          -11.13           -8.77   \n",
       "25%             -0.82           -0.74           -0.81           -0.50   \n",
       "50%             -0.06            0.02           -0.04            0.31   \n",
       "75%              0.66            0.80            0.71            1.28   \n",
       "max             10.69           11.31           12.64           11.16   \n",
       "\n",
       "       BH-A0C7.36TCGA  A2-A0SX.36TCGA  263d3f-I.CPTAC  blcdb9-I.CPTAC  \\\n",
       "count         9693.00         9697.00        10912.00        10885.00   \n",
       "mean            -0.37           -0.05            0.07           -0.30   \n",
       "std              1.45            1.72            1.95            1.31   \n",
       "min            -10.43          -12.97          -12.61           -9.06   \n",
       "25%             -1.06           -0.93           -0.87           -1.06   \n",
       "50%             -0.20           -0.08            0.05           -0.19   \n",
       "75%              0.52            0.76            1.01            0.57   \n",
       "max              7.89           11.52           16.18            6.44   \n",
       "\n",
       "       c4155b-C.CPTAC  \n",
       "count        10913.00  \n",
       "mean             0.31  \n",
       "std              1.71  \n",
       "min             -6.33  \n",
       "25%             -0.65  \n",
       "50%              0.14  \n",
       "75%              1.06  \n",
       "max             10.50  \n",
       "\n",
       "[8 rows x 83 columns]"
      ]
     },
     "execution_count": 4,
     "metadata": {},
     "output_type": "execute_result"
    }
   ],
   "source": [
    "#Description of protein data, overall statistics on proteins of each patient.\n",
    "print \"Number Of Samples in Protein Data:\", len(prot_data.columns)\n",
    "\n",
    "prot_data.describe().round(2)"
   ]
  },
  {
   "cell_type": "code",
   "execution_count": 5,
   "metadata": {
    "collapsed": false
   },
   "outputs": [
    {
     "data": {
      "text/html": [
       "<div>\n",
       "<table border=\"1\" class=\"dataframe\">\n",
       "  <thead>\n",
       "    <tr style=\"text-align: right;\">\n",
       "      <th></th>\n",
       "      <th>count</th>\n",
       "      <th>mean</th>\n",
       "      <th>std</th>\n",
       "      <th>min</th>\n",
       "      <th>25%</th>\n",
       "      <th>50%</th>\n",
       "      <th>75%</th>\n",
       "      <th>max</th>\n",
       "    </tr>\n",
       "  </thead>\n",
       "  <tbody>\n",
       "    <tr>\n",
       "      <th>count</th>\n",
       "      <td>83.00</td>\n",
       "      <td>83.00</td>\n",
       "      <td>83.00</td>\n",
       "      <td>83.00</td>\n",
       "      <td>83.00</td>\n",
       "      <td>83.00</td>\n",
       "      <td>83.00</td>\n",
       "      <td>83.00</td>\n",
       "    </tr>\n",
       "    <tr>\n",
       "      <th>mean</th>\n",
       "      <td>11238.78</td>\n",
       "      <td>-0.20</td>\n",
       "      <td>1.74</td>\n",
       "      <td>-14.03</td>\n",
       "      <td>-0.95</td>\n",
       "      <td>-0.08</td>\n",
       "      <td>0.71</td>\n",
       "      <td>10.41</td>\n",
       "    </tr>\n",
       "    <tr>\n",
       "      <th>std</th>\n",
       "      <td>472.24</td>\n",
       "      <td>0.33</td>\n",
       "      <td>0.26</td>\n",
       "      <td>3.13</td>\n",
       "      <td>0.36</td>\n",
       "      <td>0.19</td>\n",
       "      <td>0.18</td>\n",
       "      <td>2.19</td>\n",
       "    </tr>\n",
       "    <tr>\n",
       "      <th>min</th>\n",
       "      <td>9693.00</td>\n",
       "      <td>-1.49</td>\n",
       "      <td>1.31</td>\n",
       "      <td>-24.55</td>\n",
       "      <td>-2.91</td>\n",
       "      <td>-0.95</td>\n",
       "      <td>0.27</td>\n",
       "      <td>6.44</td>\n",
       "    </tr>\n",
       "    <tr>\n",
       "      <th>25%</th>\n",
       "      <td>10949.50</td>\n",
       "      <td>-0.35</td>\n",
       "      <td>1.57</td>\n",
       "      <td>-15.40</td>\n",
       "      <td>-1.06</td>\n",
       "      <td>-0.19</td>\n",
       "      <td>0.58</td>\n",
       "      <td>8.76</td>\n",
       "    </tr>\n",
       "    <tr>\n",
       "      <th>50%</th>\n",
       "      <td>11280.00</td>\n",
       "      <td>-0.11</td>\n",
       "      <td>1.67</td>\n",
       "      <td>-13.60</td>\n",
       "      <td>-0.87</td>\n",
       "      <td>-0.04</td>\n",
       "      <td>0.71</td>\n",
       "      <td>10.08</td>\n",
       "    </tr>\n",
       "    <tr>\n",
       "      <th>75%</th>\n",
       "      <td>11515.50</td>\n",
       "      <td>-0.00</td>\n",
       "      <td>1.87</td>\n",
       "      <td>-12.11</td>\n",
       "      <td>-0.74</td>\n",
       "      <td>0.03</td>\n",
       "      <td>0.83</td>\n",
       "      <td>11.78</td>\n",
       "    </tr>\n",
       "    <tr>\n",
       "      <th>max</th>\n",
       "      <td>12025.00</td>\n",
       "      <td>0.49</td>\n",
       "      <td>2.54</td>\n",
       "      <td>-6.33</td>\n",
       "      <td>-0.50</td>\n",
       "      <td>0.31</td>\n",
       "      <td>1.28</td>\n",
       "      <td>17.62</td>\n",
       "    </tr>\n",
       "  </tbody>\n",
       "</table>\n",
       "</div>"
      ],
      "text/plain": [
       "          count   mean    std    min    25%    50%    75%    max\n",
       "count     83.00  83.00  83.00  83.00  83.00  83.00  83.00  83.00\n",
       "mean   11238.78  -0.20   1.74 -14.03  -0.95  -0.08   0.71  10.41\n",
       "std      472.24   0.33   0.26   3.13   0.36   0.19   0.18   2.19\n",
       "min     9693.00  -1.49   1.31 -24.55  -2.91  -0.95   0.27   6.44\n",
       "25%    10949.50  -0.35   1.57 -15.40  -1.06  -0.19   0.58   8.76\n",
       "50%    11280.00  -0.11   1.67 -13.60  -0.87  -0.04   0.71  10.08\n",
       "75%    11515.50  -0.00   1.87 -12.11  -0.74   0.03   0.83  11.78\n",
       "max    12025.00   0.49   2.54  -6.33  -0.50   0.31   1.28  17.62"
      ]
     },
     "execution_count": 5,
     "metadata": {},
     "output_type": "execute_result"
    }
   ],
   "source": [
    "#find decriptions of proteins overall\n",
    "#read the table row first, for example the mean of the standard deviations would be row mean and column std\n",
    "prot_data.describe().transpose().describe().round(2)"
   ]
  },
  {
   "cell_type": "code",
   "execution_count": 6,
   "metadata": {
    "collapsed": false
   },
   "outputs": [],
   "source": [
    "#create copy of protein and process it to have a single gene column to use as an index.\n",
    "prot_data['gene_symbol'].fillna(\"NA\",inplace = True)\n",
    "prot_data['gene'] = prot_data['RefSeq_accession_number'] + \" - \" + prot_data['gene_name'].map(str) + \" - \" + \\\n",
    "                    prot_data['gene_symbol']\n",
    "prot_data = prot_data.set_index('gene')\n",
    "prot_data = prot_data.drop(['gene_name','gene_symbol','RefSeq_accession_number'],1)\n",
    "\n",
    "#drop missing data rows, and transpose data to line up with clin_data\n",
    "prot_data_reduced = prot_data.dropna(axis = 0)\n",
    "prot_data_reduced = prot_data_reduced.transpose()\n",
    "\n",
    "#change naming of prot_data index to line up with clin_data. Move TCGA- to beginning, removing last 7 characters.\n",
    "prot_data_reduced.index = pd.Series([val[10:14] + \"-\" + val[0:7]\n",
    "                                     for val in prot_data_reduced.index], index = prot_data_reduced.index)\n",
    "prot_data_reduced.index.rename(\"Complete TCGA ID\",inplace = True)\n",
    "\n",
    "#sort dataframe\n",
    "prot_data_reduced = prot_data_reduced.sort_index()"
   ]
  },
  {
   "cell_type": "code",
   "execution_count": 7,
   "metadata": {
    "collapsed": false
   },
   "outputs": [
    {
     "data": {
      "text/html": [
       "<div>\n",
       "<table border=\"1\" class=\"dataframe\">\n",
       "  <thead>\n",
       "    <tr style=\"text-align: right;\">\n",
       "      <th></th>\n",
       "      <th>count</th>\n",
       "      <th>mean</th>\n",
       "      <th>std</th>\n",
       "      <th>min</th>\n",
       "      <th>25%</th>\n",
       "      <th>50%</th>\n",
       "      <th>75%</th>\n",
       "      <th>max</th>\n",
       "    </tr>\n",
       "  </thead>\n",
       "  <tbody>\n",
       "    <tr>\n",
       "      <th>count</th>\n",
       "      <td>83</td>\n",
       "      <td>83.00</td>\n",
       "      <td>83.00</td>\n",
       "      <td>83.00</td>\n",
       "      <td>83.00</td>\n",
       "      <td>83.00</td>\n",
       "      <td>83.00</td>\n",
       "      <td>83.00</td>\n",
       "    </tr>\n",
       "    <tr>\n",
       "      <th>mean</th>\n",
       "      <td>7994</td>\n",
       "      <td>-0.11</td>\n",
       "      <td>1.46</td>\n",
       "      <td>-11.63</td>\n",
       "      <td>-0.80</td>\n",
       "      <td>-0.05</td>\n",
       "      <td>0.65</td>\n",
       "      <td>8.44</td>\n",
       "    </tr>\n",
       "    <tr>\n",
       "      <th>std</th>\n",
       "      <td>0</td>\n",
       "      <td>0.20</td>\n",
       "      <td>0.15</td>\n",
       "      <td>2.25</td>\n",
       "      <td>0.21</td>\n",
       "      <td>0.12</td>\n",
       "      <td>0.13</td>\n",
       "      <td>1.70</td>\n",
       "    </tr>\n",
       "    <tr>\n",
       "      <th>min</th>\n",
       "      <td>7994</td>\n",
       "      <td>-0.86</td>\n",
       "      <td>1.08</td>\n",
       "      <td>-16.70</td>\n",
       "      <td>-1.87</td>\n",
       "      <td>-0.55</td>\n",
       "      <td>0.35</td>\n",
       "      <td>5.13</td>\n",
       "    </tr>\n",
       "    <tr>\n",
       "      <th>25%</th>\n",
       "      <td>7994</td>\n",
       "      <td>-0.22</td>\n",
       "      <td>1.36</td>\n",
       "      <td>-13.15</td>\n",
       "      <td>-0.86</td>\n",
       "      <td>-0.12</td>\n",
       "      <td>0.57</td>\n",
       "      <td>7.13</td>\n",
       "    </tr>\n",
       "    <tr>\n",
       "      <th>50%</th>\n",
       "      <td>7994</td>\n",
       "      <td>-0.11</td>\n",
       "      <td>1.48</td>\n",
       "      <td>-11.65</td>\n",
       "      <td>-0.76</td>\n",
       "      <td>-0.05</td>\n",
       "      <td>0.64</td>\n",
       "      <td>8.35</td>\n",
       "    </tr>\n",
       "    <tr>\n",
       "      <th>75%</th>\n",
       "      <td>7994</td>\n",
       "      <td>0.01</td>\n",
       "      <td>1.54</td>\n",
       "      <td>-10.23</td>\n",
       "      <td>-0.67</td>\n",
       "      <td>0.02</td>\n",
       "      <td>0.73</td>\n",
       "      <td>9.56</td>\n",
       "    </tr>\n",
       "    <tr>\n",
       "      <th>max</th>\n",
       "      <td>7994</td>\n",
       "      <td>0.39</td>\n",
       "      <td>1.91</td>\n",
       "      <td>-5.71</td>\n",
       "      <td>-0.52</td>\n",
       "      <td>0.23</td>\n",
       "      <td>1.14</td>\n",
       "      <td>13.22</td>\n",
       "    </tr>\n",
       "  </tbody>\n",
       "</table>\n",
       "</div>"
      ],
      "text/plain": [
       "       count   mean    std    min    25%    50%    75%    max\n",
       "count     83  83.00  83.00  83.00  83.00  83.00  83.00  83.00\n",
       "mean    7994  -0.11   1.46 -11.63  -0.80  -0.05   0.65   8.44\n",
       "std        0   0.20   0.15   2.25   0.21   0.12   0.13   1.70\n",
       "min     7994  -0.86   1.08 -16.70  -1.87  -0.55   0.35   5.13\n",
       "25%     7994  -0.22   1.36 -13.15  -0.86  -0.12   0.57   7.13\n",
       "50%     7994  -0.11   1.48 -11.65  -0.76  -0.05   0.64   8.35\n",
       "75%     7994   0.01   1.54 -10.23  -0.67   0.02   0.73   9.56\n",
       "max     7994   0.39   1.91  -5.71  -0.52   0.23   1.14  13.22"
      ]
     },
     "execution_count": 7,
     "metadata": {},
     "output_type": "execute_result"
    }
   ],
   "source": [
    "#find decriptions of proteins overall for processed protein data\n",
    "prot_data_reduced.transpose().describe().transpose().describe().round(2)"
   ]
  },
  {
   "cell_type": "code",
   "execution_count": 8,
   "metadata": {
    "collapsed": false
   },
   "outputs": [
    {
     "data": {
      "text/plain": [
       "TCGA-AO-A12B    2\n",
       "TCGA-C8-A131    2\n",
       "TCGA-AO-A12D    2\n",
       "TCGA-AO-A0JC    1\n",
       "TCGA-BH-A0DG    1\n",
       "Name: Complete TCGA ID, dtype: int64"
      ]
     },
     "execution_count": 8,
     "metadata": {},
     "output_type": "execute_result"
    }
   ],
   "source": [
    "#Discover duplicate patient identifiers\n",
    "prot_data_reduced.index.value_counts().head()"
   ]
  },
  {
   "cell_type": "code",
   "execution_count": 9,
   "metadata": {
    "collapsed": true
   },
   "outputs": [],
   "source": [
    "#renaming duplicate indexes and dropping them\n",
    "for i in range(1,len(prot_data_reduced)):\n",
    "    if prot_data_reduced.index[i] == prot_data_reduced.index[i-1]:  \n",
    "        prot_range = prot_data_reduced.index.values\n",
    "        prot_range[i] = prot_data_reduced.index[i] + \"B\"\n",
    "        drop = prot_data_reduced.index[i] + \"B\"\n",
    "        prot_data_reduced.set_index(prot_range)\n",
    "        prot_data_reduced.drop([drop,0])"
   ]
  },
  {
   "cell_type": "code",
   "execution_count": 10,
   "metadata": {
    "collapsed": false
   },
   "outputs": [
    {
     "data": {
      "text/plain": [
       "TCGA-AO-A0JC    1\n",
       "TCGA-A2-A0EX    1\n",
       "TCGA-A2-A0EV    1\n",
       "TCGA-A8-A06N    1\n",
       "PTAC-263d3f-    1\n",
       "Name: Complete TCGA ID, dtype: int64"
      ]
     },
     "execution_count": 10,
     "metadata": {},
     "output_type": "execute_result"
    }
   ],
   "source": [
    "#check all duplicates dropped\n",
    "prot_data_reduced.index.value_counts().head()"
   ]
  },
  {
   "cell_type": "code",
   "execution_count": 11,
   "metadata": {
    "collapsed": false
   },
   "outputs": [
    {
     "data": {
      "text/html": [
       "<div>\n",
       "<table border=\"1\" class=\"dataframe\">\n",
       "  <thead>\n",
       "    <tr style=\"text-align: right;\">\n",
       "      <th></th>\n",
       "      <th>Age at Initial Pathologic Diagnosis</th>\n",
       "      <th>Days to Date of Last Contact</th>\n",
       "      <th>Days to date of Death</th>\n",
       "      <th>OS event</th>\n",
       "      <th>OS Time</th>\n",
       "      <th>SigClust Unsupervised mRNA</th>\n",
       "      <th>SigClust Intrinsic mRNA</th>\n",
       "      <th>miRNA Clusters</th>\n",
       "      <th>methylation Clusters</th>\n",
       "      <th>CN Clusters</th>\n",
       "      <th>Integrated Clusters (with PAM50)</th>\n",
       "      <th>Integrated Clusters (no exp)</th>\n",
       "      <th>Integrated Clusters (unsup exp)</th>\n",
       "    </tr>\n",
       "  </thead>\n",
       "  <tbody>\n",
       "    <tr>\n",
       "      <th>count</th>\n",
       "      <td>105.00</td>\n",
       "      <td>105.00</td>\n",
       "      <td>11.00</td>\n",
       "      <td>105.00</td>\n",
       "      <td>105.00</td>\n",
       "      <td>105.00</td>\n",
       "      <td>105.00</td>\n",
       "      <td>105.00</td>\n",
       "      <td>105.00</td>\n",
       "      <td>105.00</td>\n",
       "      <td>105.00</td>\n",
       "      <td>105.00</td>\n",
       "      <td>105.00</td>\n",
       "    </tr>\n",
       "    <tr>\n",
       "      <th>mean</th>\n",
       "      <td>58.69</td>\n",
       "      <td>788.39</td>\n",
       "      <td>1254.45</td>\n",
       "      <td>0.10</td>\n",
       "      <td>817.65</td>\n",
       "      <td>-4.89</td>\n",
       "      <td>-7.18</td>\n",
       "      <td>4.00</td>\n",
       "      <td>3.34</td>\n",
       "      <td>2.59</td>\n",
       "      <td>2.74</td>\n",
       "      <td>1.98</td>\n",
       "      <td>2.35</td>\n",
       "    </tr>\n",
       "    <tr>\n",
       "      <th>std</th>\n",
       "      <td>13.07</td>\n",
       "      <td>645.28</td>\n",
       "      <td>678.05</td>\n",
       "      <td>0.31</td>\n",
       "      <td>672.03</td>\n",
       "      <td>3.56</td>\n",
       "      <td>5.02</td>\n",
       "      <td>1.59</td>\n",
       "      <td>1.41</td>\n",
       "      <td>1.34</td>\n",
       "      <td>1.07</td>\n",
       "      <td>0.97</td>\n",
       "      <td>1.09</td>\n",
       "    </tr>\n",
       "    <tr>\n",
       "      <th>min</th>\n",
       "      <td>30.00</td>\n",
       "      <td>0.00</td>\n",
       "      <td>160.00</td>\n",
       "      <td>0.00</td>\n",
       "      <td>0.00</td>\n",
       "      <td>-12.00</td>\n",
       "      <td>-13.00</td>\n",
       "      <td>1.00</td>\n",
       "      <td>1.00</td>\n",
       "      <td>1.00</td>\n",
       "      <td>1.00</td>\n",
       "      <td>1.00</td>\n",
       "      <td>1.00</td>\n",
       "    </tr>\n",
       "    <tr>\n",
       "      <th>25%</th>\n",
       "      <td>49.00</td>\n",
       "      <td>240.00</td>\n",
       "      <td>947.50</td>\n",
       "      <td>0.00</td>\n",
       "      <td>240.00</td>\n",
       "      <td>-6.00</td>\n",
       "      <td>-12.00</td>\n",
       "      <td>3.00</td>\n",
       "      <td>2.00</td>\n",
       "      <td>1.00</td>\n",
       "      <td>2.00</td>\n",
       "      <td>1.00</td>\n",
       "      <td>1.00</td>\n",
       "    </tr>\n",
       "    <tr>\n",
       "      <th>50%</th>\n",
       "      <td>58.00</td>\n",
       "      <td>643.00</td>\n",
       "      <td>1364.00</td>\n",
       "      <td>0.00</td>\n",
       "      <td>665.00</td>\n",
       "      <td>-5.00</td>\n",
       "      <td>-6.00</td>\n",
       "      <td>4.00</td>\n",
       "      <td>4.00</td>\n",
       "      <td>3.00</td>\n",
       "      <td>3.00</td>\n",
       "      <td>2.00</td>\n",
       "      <td>2.00</td>\n",
       "    </tr>\n",
       "    <tr>\n",
       "      <th>75%</th>\n",
       "      <td>67.00</td>\n",
       "      <td>1288.00</td>\n",
       "      <td>1627.50</td>\n",
       "      <td>0.00</td>\n",
       "      <td>1305.00</td>\n",
       "      <td>-3.00</td>\n",
       "      <td>-2.00</td>\n",
       "      <td>5.00</td>\n",
       "      <td>4.00</td>\n",
       "      <td>3.00</td>\n",
       "      <td>4.00</td>\n",
       "      <td>3.00</td>\n",
       "      <td>3.00</td>\n",
       "    </tr>\n",
       "    <tr>\n",
       "      <th>max</th>\n",
       "      <td>88.00</td>\n",
       "      <td>2850.00</td>\n",
       "      <td>2483.00</td>\n",
       "      <td>1.00</td>\n",
       "      <td>2850.00</td>\n",
       "      <td>0.00</td>\n",
       "      <td>0.00</td>\n",
       "      <td>7.00</td>\n",
       "      <td>5.00</td>\n",
       "      <td>5.00</td>\n",
       "      <td>4.00</td>\n",
       "      <td>4.00</td>\n",
       "      <td>5.00</td>\n",
       "    </tr>\n",
       "  </tbody>\n",
       "</table>\n",
       "</div>"
      ],
      "text/plain": [
       "       Age at Initial Pathologic Diagnosis  Days to Date of Last Contact  \\\n",
       "count                               105.00                        105.00   \n",
       "mean                                 58.69                        788.39   \n",
       "std                                  13.07                        645.28   \n",
       "min                                  30.00                          0.00   \n",
       "25%                                  49.00                        240.00   \n",
       "50%                                  58.00                        643.00   \n",
       "75%                                  67.00                       1288.00   \n",
       "max                                  88.00                       2850.00   \n",
       "\n",
       "       Days to date of Death  OS event  OS Time  SigClust Unsupervised mRNA  \\\n",
       "count                  11.00    105.00   105.00                      105.00   \n",
       "mean                 1254.45      0.10   817.65                       -4.89   \n",
       "std                   678.05      0.31   672.03                        3.56   \n",
       "min                   160.00      0.00     0.00                      -12.00   \n",
       "25%                   947.50      0.00   240.00                       -6.00   \n",
       "50%                  1364.00      0.00   665.00                       -5.00   \n",
       "75%                  1627.50      0.00  1305.00                       -3.00   \n",
       "max                  2483.00      1.00  2850.00                        0.00   \n",
       "\n",
       "       SigClust Intrinsic mRNA  miRNA Clusters  methylation Clusters  \\\n",
       "count                   105.00          105.00                105.00   \n",
       "mean                     -7.18            4.00                  3.34   \n",
       "std                       5.02            1.59                  1.41   \n",
       "min                     -13.00            1.00                  1.00   \n",
       "25%                     -12.00            3.00                  2.00   \n",
       "50%                      -6.00            4.00                  4.00   \n",
       "75%                      -2.00            5.00                  4.00   \n",
       "max                       0.00            7.00                  5.00   \n",
       "\n",
       "       CN Clusters  Integrated Clusters (with PAM50)  \\\n",
       "count       105.00                            105.00   \n",
       "mean          2.59                              2.74   \n",
       "std           1.34                              1.07   \n",
       "min           1.00                              1.00   \n",
       "25%           1.00                              2.00   \n",
       "50%           3.00                              3.00   \n",
       "75%           3.00                              4.00   \n",
       "max           5.00                              4.00   \n",
       "\n",
       "       Integrated Clusters (no exp)  Integrated Clusters (unsup exp)  \n",
       "count                        105.00                           105.00  \n",
       "mean                           1.98                             2.35  \n",
       "std                            0.97                             1.09  \n",
       "min                            1.00                             1.00  \n",
       "25%                            1.00                             1.00  \n",
       "50%                            2.00                             2.00  \n",
       "75%                            3.00                             3.00  \n",
       "max                            4.00                             5.00  "
      ]
     },
     "execution_count": 11,
     "metadata": {},
     "output_type": "execute_result"
    }
   ],
   "source": [
    "#Clinical data description\n",
    "clin_data_original.describe().round(2)"
   ]
  },
  {
   "cell_type": "code",
   "execution_count": 12,
   "metadata": {
    "collapsed": false
   },
   "outputs": [],
   "source": [
    "#remove clin_data column with NAs\n",
    "clin_data_original = clin_data_original.dropna(axis = 1)"
   ]
  },
  {
   "cell_type": "code",
   "execution_count": 13,
   "metadata": {
    "collapsed": false
   },
   "outputs": [
    {
     "data": {
      "text/html": [
       "<div>\n",
       "<table border=\"1\" class=\"dataframe\">\n",
       "  <thead>\n",
       "    <tr style=\"text-align: right;\">\n",
       "      <th></th>\n",
       "      <th>Age at Initial Pathologic Diagnosis</th>\n",
       "      <th>Days to Date of Last Contact</th>\n",
       "      <th>OS event</th>\n",
       "      <th>OS Time</th>\n",
       "      <th>SigClust Unsupervised mRNA</th>\n",
       "      <th>SigClust Intrinsic mRNA</th>\n",
       "      <th>miRNA Clusters</th>\n",
       "      <th>methylation Clusters</th>\n",
       "      <th>CN Clusters</th>\n",
       "      <th>Integrated Clusters (with PAM50)</th>\n",
       "      <th>Integrated Clusters (no exp)</th>\n",
       "      <th>Integrated Clusters (unsup exp)</th>\n",
       "    </tr>\n",
       "  </thead>\n",
       "  <tbody>\n",
       "    <tr>\n",
       "      <th>count</th>\n",
       "      <td>105.00</td>\n",
       "      <td>105.00</td>\n",
       "      <td>105.00</td>\n",
       "      <td>105.00</td>\n",
       "      <td>105.00</td>\n",
       "      <td>105.00</td>\n",
       "      <td>105.00</td>\n",
       "      <td>105.00</td>\n",
       "      <td>105.00</td>\n",
       "      <td>105.00</td>\n",
       "      <td>105.00</td>\n",
       "      <td>105.00</td>\n",
       "    </tr>\n",
       "    <tr>\n",
       "      <th>mean</th>\n",
       "      <td>58.69</td>\n",
       "      <td>788.39</td>\n",
       "      <td>0.10</td>\n",
       "      <td>817.65</td>\n",
       "      <td>-4.89</td>\n",
       "      <td>-7.18</td>\n",
       "      <td>4.00</td>\n",
       "      <td>3.34</td>\n",
       "      <td>2.59</td>\n",
       "      <td>2.74</td>\n",
       "      <td>1.98</td>\n",
       "      <td>2.35</td>\n",
       "    </tr>\n",
       "    <tr>\n",
       "      <th>std</th>\n",
       "      <td>13.07</td>\n",
       "      <td>645.28</td>\n",
       "      <td>0.31</td>\n",
       "      <td>672.03</td>\n",
       "      <td>3.56</td>\n",
       "      <td>5.02</td>\n",
       "      <td>1.59</td>\n",
       "      <td>1.41</td>\n",
       "      <td>1.34</td>\n",
       "      <td>1.07</td>\n",
       "      <td>0.97</td>\n",
       "      <td>1.09</td>\n",
       "    </tr>\n",
       "    <tr>\n",
       "      <th>min</th>\n",
       "      <td>30.00</td>\n",
       "      <td>0.00</td>\n",
       "      <td>0.00</td>\n",
       "      <td>0.00</td>\n",
       "      <td>-12.00</td>\n",
       "      <td>-13.00</td>\n",
       "      <td>1.00</td>\n",
       "      <td>1.00</td>\n",
       "      <td>1.00</td>\n",
       "      <td>1.00</td>\n",
       "      <td>1.00</td>\n",
       "      <td>1.00</td>\n",
       "    </tr>\n",
       "    <tr>\n",
       "      <th>25%</th>\n",
       "      <td>49.00</td>\n",
       "      <td>240.00</td>\n",
       "      <td>0.00</td>\n",
       "      <td>240.00</td>\n",
       "      <td>-6.00</td>\n",
       "      <td>-12.00</td>\n",
       "      <td>3.00</td>\n",
       "      <td>2.00</td>\n",
       "      <td>1.00</td>\n",
       "      <td>2.00</td>\n",
       "      <td>1.00</td>\n",
       "      <td>1.00</td>\n",
       "    </tr>\n",
       "    <tr>\n",
       "      <th>50%</th>\n",
       "      <td>58.00</td>\n",
       "      <td>643.00</td>\n",
       "      <td>0.00</td>\n",
       "      <td>665.00</td>\n",
       "      <td>-5.00</td>\n",
       "      <td>-6.00</td>\n",
       "      <td>4.00</td>\n",
       "      <td>4.00</td>\n",
       "      <td>3.00</td>\n",
       "      <td>3.00</td>\n",
       "      <td>2.00</td>\n",
       "      <td>2.00</td>\n",
       "    </tr>\n",
       "    <tr>\n",
       "      <th>75%</th>\n",
       "      <td>67.00</td>\n",
       "      <td>1288.00</td>\n",
       "      <td>0.00</td>\n",
       "      <td>1305.00</td>\n",
       "      <td>-3.00</td>\n",
       "      <td>-2.00</td>\n",
       "      <td>5.00</td>\n",
       "      <td>4.00</td>\n",
       "      <td>3.00</td>\n",
       "      <td>4.00</td>\n",
       "      <td>3.00</td>\n",
       "      <td>3.00</td>\n",
       "    </tr>\n",
       "    <tr>\n",
       "      <th>max</th>\n",
       "      <td>88.00</td>\n",
       "      <td>2850.00</td>\n",
       "      <td>1.00</td>\n",
       "      <td>2850.00</td>\n",
       "      <td>0.00</td>\n",
       "      <td>0.00</td>\n",
       "      <td>7.00</td>\n",
       "      <td>5.00</td>\n",
       "      <td>5.00</td>\n",
       "      <td>4.00</td>\n",
       "      <td>4.00</td>\n",
       "      <td>5.00</td>\n",
       "    </tr>\n",
       "  </tbody>\n",
       "</table>\n",
       "</div>"
      ],
      "text/plain": [
       "       Age at Initial Pathologic Diagnosis  Days to Date of Last Contact  \\\n",
       "count                               105.00                        105.00   \n",
       "mean                                 58.69                        788.39   \n",
       "std                                  13.07                        645.28   \n",
       "min                                  30.00                          0.00   \n",
       "25%                                  49.00                        240.00   \n",
       "50%                                  58.00                        643.00   \n",
       "75%                                  67.00                       1288.00   \n",
       "max                                  88.00                       2850.00   \n",
       "\n",
       "       OS event  OS Time  SigClust Unsupervised mRNA  SigClust Intrinsic mRNA  \\\n",
       "count    105.00   105.00                      105.00                   105.00   \n",
       "mean       0.10   817.65                       -4.89                    -7.18   \n",
       "std        0.31   672.03                        3.56                     5.02   \n",
       "min        0.00     0.00                      -12.00                   -13.00   \n",
       "25%        0.00   240.00                       -6.00                   -12.00   \n",
       "50%        0.00   665.00                       -5.00                    -6.00   \n",
       "75%        0.00  1305.00                       -3.00                    -2.00   \n",
       "max        1.00  2850.00                        0.00                     0.00   \n",
       "\n",
       "       miRNA Clusters  methylation Clusters  CN Clusters  \\\n",
       "count          105.00                105.00       105.00   \n",
       "mean             4.00                  3.34         2.59   \n",
       "std              1.59                  1.41         1.34   \n",
       "min              1.00                  1.00         1.00   \n",
       "25%              3.00                  2.00         1.00   \n",
       "50%              4.00                  4.00         3.00   \n",
       "75%              5.00                  4.00         3.00   \n",
       "max              7.00                  5.00         5.00   \n",
       "\n",
       "       Integrated Clusters (with PAM50)  Integrated Clusters (no exp)  \\\n",
       "count                            105.00                        105.00   \n",
       "mean                               2.74                          1.98   \n",
       "std                                1.07                          0.97   \n",
       "min                                1.00                          1.00   \n",
       "25%                                2.00                          1.00   \n",
       "50%                                3.00                          2.00   \n",
       "75%                                4.00                          3.00   \n",
       "max                                4.00                          4.00   \n",
       "\n",
       "       Integrated Clusters (unsup exp)  \n",
       "count                           105.00  \n",
       "mean                              2.35  \n",
       "std                               1.09  \n",
       "min                               1.00  \n",
       "25%                               1.00  \n",
       "50%                               2.00  \n",
       "75%                               3.00  \n",
       "max                               5.00  "
      ]
     },
     "execution_count": 13,
     "metadata": {},
     "output_type": "execute_result"
    }
   ],
   "source": [
    "clin_data_original.describe().round(2)"
   ]
  },
  {
   "cell_type": "code",
   "execution_count": 14,
   "metadata": {
    "collapsed": true
   },
   "outputs": [],
   "source": [
    "#combine protein data and clinical data to ensure matched indexes and get rid of protein patients without clinical\n",
    "#info\n",
    "combined_table = clin_data_original.join(prot_data_reduced)"
   ]
  },
  {
   "cell_type": "code",
   "execution_count": 15,
   "metadata": {
    "collapsed": false
   },
   "outputs": [
    {
     "data": {
      "text/html": [
       "<div>\n",
       "<table border=\"1\" class=\"dataframe\">\n",
       "  <thead>\n",
       "    <tr style=\"text-align: right;\">\n",
       "      <th></th>\n",
       "      <th>Age at Initial Pathologic Diagnosis</th>\n",
       "      <th>Days to Date of Last Contact</th>\n",
       "      <th>OS event</th>\n",
       "      <th>OS Time</th>\n",
       "      <th>SigClust Unsupervised mRNA</th>\n",
       "      <th>SigClust Intrinsic mRNA</th>\n",
       "      <th>miRNA Clusters</th>\n",
       "      <th>methylation Clusters</th>\n",
       "      <th>CN Clusters</th>\n",
       "      <th>Integrated Clusters (with PAM50)</th>\n",
       "      <th>...</th>\n",
       "      <th>NP_001652 - ADP-ribosylation factor-like protein 4D - ARL4D</th>\n",
       "      <th>NP_071753 - potassium channel subfamily K member 15 precursor - NA</th>\n",
       "      <th>NP_001294 - protoheme IX farnesyltransferase, mitochondrial - COX10</th>\n",
       "      <th>NP_065775 - RING finger protein 150 precursor - RNF150</th>\n",
       "      <th>NP_001094348 - maestro heat-like repeat-containing protein family member 6 - C8ORF73</th>\n",
       "      <th>XP_003846524 - PREDICTED: ADP-ribosylation factor-like protein 17-like - NA</th>\n",
       "      <th>NP_443073 - testis-specific serine/threonine-protein kinase 3 - TSSK3</th>\n",
       "      <th>NP_001004456 - olfactory receptor 1M1 - OR1M1</th>\n",
       "      <th>NP_997625 - ADP-ribosylation factor-like protein 4A - ARL4A</th>\n",
       "      <th>NP_003270 - troponin C, skeletal muscle - TNNC2</th>\n",
       "    </tr>\n",
       "  </thead>\n",
       "  <tbody>\n",
       "    <tr>\n",
       "      <th>count</th>\n",
       "      <td>105.00</td>\n",
       "      <td>105.00</td>\n",
       "      <td>105.00</td>\n",
       "      <td>105.00</td>\n",
       "      <td>105.00</td>\n",
       "      <td>105.00</td>\n",
       "      <td>105.00</td>\n",
       "      <td>105.00</td>\n",
       "      <td>105.00</td>\n",
       "      <td>105.00</td>\n",
       "      <td>...</td>\n",
       "      <td>77.00</td>\n",
       "      <td>77.00</td>\n",
       "      <td>77.00</td>\n",
       "      <td>77.00</td>\n",
       "      <td>77.00</td>\n",
       "      <td>77.00</td>\n",
       "      <td>77.00</td>\n",
       "      <td>77.00</td>\n",
       "      <td>77.00</td>\n",
       "      <td>77.00</td>\n",
       "    </tr>\n",
       "    <tr>\n",
       "      <th>mean</th>\n",
       "      <td>58.69</td>\n",
       "      <td>788.39</td>\n",
       "      <td>0.10</td>\n",
       "      <td>817.65</td>\n",
       "      <td>-4.89</td>\n",
       "      <td>-7.18</td>\n",
       "      <td>4.00</td>\n",
       "      <td>3.34</td>\n",
       "      <td>2.59</td>\n",
       "      <td>2.74</td>\n",
       "      <td>...</td>\n",
       "      <td>0.53</td>\n",
       "      <td>0.56</td>\n",
       "      <td>0.52</td>\n",
       "      <td>0.30</td>\n",
       "      <td>0.19</td>\n",
       "      <td>-1.25</td>\n",
       "      <td>0.27</td>\n",
       "      <td>0.46</td>\n",
       "      <td>0.19</td>\n",
       "      <td>0.11</td>\n",
       "    </tr>\n",
       "    <tr>\n",
       "      <th>std</th>\n",
       "      <td>13.07</td>\n",
       "      <td>645.28</td>\n",
       "      <td>0.31</td>\n",
       "      <td>672.03</td>\n",
       "      <td>3.56</td>\n",
       "      <td>5.02</td>\n",
       "      <td>1.59</td>\n",
       "      <td>1.41</td>\n",
       "      <td>1.34</td>\n",
       "      <td>1.07</td>\n",
       "      <td>...</td>\n",
       "      <td>2.05</td>\n",
       "      <td>2.16</td>\n",
       "      <td>2.31</td>\n",
       "      <td>2.54</td>\n",
       "      <td>2.41</td>\n",
       "      <td>2.54</td>\n",
       "      <td>1.22</td>\n",
       "      <td>2.34</td>\n",
       "      <td>1.89</td>\n",
       "      <td>2.05</td>\n",
       "    </tr>\n",
       "    <tr>\n",
       "      <th>min</th>\n",
       "      <td>30.00</td>\n",
       "      <td>0.00</td>\n",
       "      <td>0.00</td>\n",
       "      <td>0.00</td>\n",
       "      <td>-12.00</td>\n",
       "      <td>-13.00</td>\n",
       "      <td>1.00</td>\n",
       "      <td>1.00</td>\n",
       "      <td>1.00</td>\n",
       "      <td>1.00</td>\n",
       "      <td>...</td>\n",
       "      <td>-7.06</td>\n",
       "      <td>-5.37</td>\n",
       "      <td>-6.73</td>\n",
       "      <td>-7.76</td>\n",
       "      <td>-6.97</td>\n",
       "      <td>-8.72</td>\n",
       "      <td>-4.21</td>\n",
       "      <td>-4.99</td>\n",
       "      <td>-7.20</td>\n",
       "      <td>-9.66</td>\n",
       "    </tr>\n",
       "    <tr>\n",
       "      <th>25%</th>\n",
       "      <td>49.00</td>\n",
       "      <td>240.00</td>\n",
       "      <td>0.00</td>\n",
       "      <td>240.00</td>\n",
       "      <td>-6.00</td>\n",
       "      <td>-12.00</td>\n",
       "      <td>3.00</td>\n",
       "      <td>2.00</td>\n",
       "      <td>1.00</td>\n",
       "      <td>2.00</td>\n",
       "      <td>...</td>\n",
       "      <td>-0.56</td>\n",
       "      <td>-0.65</td>\n",
       "      <td>-0.20</td>\n",
       "      <td>-1.19</td>\n",
       "      <td>-1.01</td>\n",
       "      <td>-3.53</td>\n",
       "      <td>-0.18</td>\n",
       "      <td>-1.45</td>\n",
       "      <td>-0.57</td>\n",
       "      <td>-0.49</td>\n",
       "    </tr>\n",
       "    <tr>\n",
       "      <th>50%</th>\n",
       "      <td>58.00</td>\n",
       "      <td>643.00</td>\n",
       "      <td>0.00</td>\n",
       "      <td>665.00</td>\n",
       "      <td>-5.00</td>\n",
       "      <td>-6.00</td>\n",
       "      <td>4.00</td>\n",
       "      <td>4.00</td>\n",
       "      <td>3.00</td>\n",
       "      <td>3.00</td>\n",
       "      <td>...</td>\n",
       "      <td>1.17</td>\n",
       "      <td>0.51</td>\n",
       "      <td>1.07</td>\n",
       "      <td>0.57</td>\n",
       "      <td>0.36</td>\n",
       "      <td>-0.46</td>\n",
       "      <td>0.39</td>\n",
       "      <td>0.71</td>\n",
       "      <td>0.46</td>\n",
       "      <td>0.64</td>\n",
       "    </tr>\n",
       "    <tr>\n",
       "      <th>75%</th>\n",
       "      <td>67.00</td>\n",
       "      <td>1288.00</td>\n",
       "      <td>0.00</td>\n",
       "      <td>1305.00</td>\n",
       "      <td>-3.00</td>\n",
       "      <td>-2.00</td>\n",
       "      <td>5.00</td>\n",
       "      <td>4.00</td>\n",
       "      <td>3.00</td>\n",
       "      <td>4.00</td>\n",
       "      <td>...</td>\n",
       "      <td>1.93</td>\n",
       "      <td>1.88</td>\n",
       "      <td>2.04</td>\n",
       "      <td>1.78</td>\n",
       "      <td>1.86</td>\n",
       "      <td>0.81</td>\n",
       "      <td>0.99</td>\n",
       "      <td>2.35</td>\n",
       "      <td>1.43</td>\n",
       "      <td>1.39</td>\n",
       "    </tr>\n",
       "    <tr>\n",
       "      <th>max</th>\n",
       "      <td>88.00</td>\n",
       "      <td>2850.00</td>\n",
       "      <td>1.00</td>\n",
       "      <td>2850.00</td>\n",
       "      <td>0.00</td>\n",
       "      <td>0.00</td>\n",
       "      <td>7.00</td>\n",
       "      <td>5.00</td>\n",
       "      <td>5.00</td>\n",
       "      <td>4.00</td>\n",
       "      <td>...</td>\n",
       "      <td>3.57</td>\n",
       "      <td>5.48</td>\n",
       "      <td>4.34</td>\n",
       "      <td>6.78</td>\n",
       "      <td>4.71</td>\n",
       "      <td>2.90</td>\n",
       "      <td>3.26</td>\n",
       "      <td>4.62</td>\n",
       "      <td>3.39</td>\n",
       "      <td>2.49</td>\n",
       "    </tr>\n",
       "  </tbody>\n",
       "</table>\n",
       "<p>8 rows × 8006 columns</p>\n",
       "</div>"
      ],
      "text/plain": [
       "       Age at Initial Pathologic Diagnosis  Days to Date of Last Contact  \\\n",
       "count                               105.00                        105.00   \n",
       "mean                                 58.69                        788.39   \n",
       "std                                  13.07                        645.28   \n",
       "min                                  30.00                          0.00   \n",
       "25%                                  49.00                        240.00   \n",
       "50%                                  58.00                        643.00   \n",
       "75%                                  67.00                       1288.00   \n",
       "max                                  88.00                       2850.00   \n",
       "\n",
       "       OS event  OS Time  SigClust Unsupervised mRNA  SigClust Intrinsic mRNA  \\\n",
       "count    105.00   105.00                      105.00                   105.00   \n",
       "mean       0.10   817.65                       -4.89                    -7.18   \n",
       "std        0.31   672.03                        3.56                     5.02   \n",
       "min        0.00     0.00                      -12.00                   -13.00   \n",
       "25%        0.00   240.00                       -6.00                   -12.00   \n",
       "50%        0.00   665.00                       -5.00                    -6.00   \n",
       "75%        0.00  1305.00                       -3.00                    -2.00   \n",
       "max        1.00  2850.00                        0.00                     0.00   \n",
       "\n",
       "       miRNA Clusters  methylation Clusters  CN Clusters  \\\n",
       "count          105.00                105.00       105.00   \n",
       "mean             4.00                  3.34         2.59   \n",
       "std              1.59                  1.41         1.34   \n",
       "min              1.00                  1.00         1.00   \n",
       "25%              3.00                  2.00         1.00   \n",
       "50%              4.00                  4.00         3.00   \n",
       "75%              5.00                  4.00         3.00   \n",
       "max              7.00                  5.00         5.00   \n",
       "\n",
       "       Integrated Clusters (with PAM50)  \\\n",
       "count                            105.00   \n",
       "mean                               2.74   \n",
       "std                                1.07   \n",
       "min                                1.00   \n",
       "25%                                2.00   \n",
       "50%                                3.00   \n",
       "75%                                4.00   \n",
       "max                                4.00   \n",
       "\n",
       "                            ...                         \\\n",
       "count                       ...                          \n",
       "mean                        ...                          \n",
       "std                         ...                          \n",
       "min                         ...                          \n",
       "25%                         ...                          \n",
       "50%                         ...                          \n",
       "75%                         ...                          \n",
       "max                         ...                          \n",
       "\n",
       "       NP_001652 - ADP-ribosylation factor-like protein 4D - ARL4D  \\\n",
       "count                                              77.00             \n",
       "mean                                                0.53             \n",
       "std                                                 2.05             \n",
       "min                                                -7.06             \n",
       "25%                                                -0.56             \n",
       "50%                                                 1.17             \n",
       "75%                                                 1.93             \n",
       "max                                                 3.57             \n",
       "\n",
       "       NP_071753 - potassium channel subfamily K member 15 precursor - NA  \\\n",
       "count                                              77.00                    \n",
       "mean                                                0.56                    \n",
       "std                                                 2.16                    \n",
       "min                                                -5.37                    \n",
       "25%                                                -0.65                    \n",
       "50%                                                 0.51                    \n",
       "75%                                                 1.88                    \n",
       "max                                                 5.48                    \n",
       "\n",
       "       NP_001294 - protoheme IX farnesyltransferase, mitochondrial - COX10  \\\n",
       "count                                              77.00                     \n",
       "mean                                                0.52                     \n",
       "std                                                 2.31                     \n",
       "min                                                -6.73                     \n",
       "25%                                                -0.20                     \n",
       "50%                                                 1.07                     \n",
       "75%                                                 2.04                     \n",
       "max                                                 4.34                     \n",
       "\n",
       "       NP_065775 - RING finger protein 150 precursor - RNF150  \\\n",
       "count                                              77.00        \n",
       "mean                                                0.30        \n",
       "std                                                 2.54        \n",
       "min                                                -7.76        \n",
       "25%                                                -1.19        \n",
       "50%                                                 0.57        \n",
       "75%                                                 1.78        \n",
       "max                                                 6.78        \n",
       "\n",
       "       NP_001094348 - maestro heat-like repeat-containing protein family member 6 - C8ORF73  \\\n",
       "count                                              77.00                                      \n",
       "mean                                                0.19                                      \n",
       "std                                                 2.41                                      \n",
       "min                                                -6.97                                      \n",
       "25%                                                -1.01                                      \n",
       "50%                                                 0.36                                      \n",
       "75%                                                 1.86                                      \n",
       "max                                                 4.71                                      \n",
       "\n",
       "       XP_003846524 - PREDICTED: ADP-ribosylation factor-like protein 17-like - NA  \\\n",
       "count                                              77.00                             \n",
       "mean                                               -1.25                             \n",
       "std                                                 2.54                             \n",
       "min                                                -8.72                             \n",
       "25%                                                -3.53                             \n",
       "50%                                                -0.46                             \n",
       "75%                                                 0.81                             \n",
       "max                                                 2.90                             \n",
       "\n",
       "       NP_443073 - testis-specific serine/threonine-protein kinase 3 - TSSK3  \\\n",
       "count                                              77.00                       \n",
       "mean                                                0.27                       \n",
       "std                                                 1.22                       \n",
       "min                                                -4.21                       \n",
       "25%                                                -0.18                       \n",
       "50%                                                 0.39                       \n",
       "75%                                                 0.99                       \n",
       "max                                                 3.26                       \n",
       "\n",
       "       NP_001004456 - olfactory receptor 1M1 - OR1M1  \\\n",
       "count                                          77.00   \n",
       "mean                                            0.46   \n",
       "std                                             2.34   \n",
       "min                                            -4.99   \n",
       "25%                                            -1.45   \n",
       "50%                                             0.71   \n",
       "75%                                             2.35   \n",
       "max                                             4.62   \n",
       "\n",
       "       NP_997625 - ADP-ribosylation factor-like protein 4A - ARL4A  \\\n",
       "count                                              77.00             \n",
       "mean                                                0.19             \n",
       "std                                                 1.89             \n",
       "min                                                -7.20             \n",
       "25%                                                -0.57             \n",
       "50%                                                 0.46             \n",
       "75%                                                 1.43             \n",
       "max                                                 3.39             \n",
       "\n",
       "       NP_003270 - troponin C, skeletal muscle - TNNC2  \n",
       "count                                            77.00  \n",
       "mean                                              0.11  \n",
       "std                                               2.05  \n",
       "min                                              -9.66  \n",
       "25%                                              -0.49  \n",
       "50%                                               0.64  \n",
       "75%                                               1.39  \n",
       "max                                               2.49  \n",
       "\n",
       "[8 rows x 8006 columns]"
      ]
     },
     "execution_count": 15,
     "metadata": {},
     "output_type": "execute_result"
    }
   ],
   "source": [
    "#check for rows in clinical data without protein data\n",
    "combined_table.describe().round(2)"
   ]
  },
  {
   "cell_type": "code",
   "execution_count": 16,
   "metadata": {
    "collapsed": true
   },
   "outputs": [],
   "source": [
    "#drop these rows\n",
    "combined_table = combined_table.dropna(axis = 0)"
   ]
  },
  {
   "cell_type": "code",
   "execution_count": 17,
   "metadata": {
    "collapsed": false
   },
   "outputs": [
    {
     "data": {
      "text/html": [
       "<div>\n",
       "<table border=\"1\" class=\"dataframe\">\n",
       "  <thead>\n",
       "    <tr style=\"text-align: right;\">\n",
       "      <th></th>\n",
       "      <th>Age at Initial Pathologic Diagnosis</th>\n",
       "      <th>Days to Date of Last Contact</th>\n",
       "      <th>OS event</th>\n",
       "      <th>OS Time</th>\n",
       "      <th>SigClust Unsupervised mRNA</th>\n",
       "      <th>SigClust Intrinsic mRNA</th>\n",
       "      <th>miRNA Clusters</th>\n",
       "      <th>methylation Clusters</th>\n",
       "      <th>CN Clusters</th>\n",
       "      <th>Integrated Clusters (with PAM50)</th>\n",
       "      <th>...</th>\n",
       "      <th>NP_001652 - ADP-ribosylation factor-like protein 4D - ARL4D</th>\n",
       "      <th>NP_071753 - potassium channel subfamily K member 15 precursor - NA</th>\n",
       "      <th>NP_001294 - protoheme IX farnesyltransferase, mitochondrial - COX10</th>\n",
       "      <th>NP_065775 - RING finger protein 150 precursor - RNF150</th>\n",
       "      <th>NP_001094348 - maestro heat-like repeat-containing protein family member 6 - C8ORF73</th>\n",
       "      <th>XP_003846524 - PREDICTED: ADP-ribosylation factor-like protein 17-like - NA</th>\n",
       "      <th>NP_443073 - testis-specific serine/threonine-protein kinase 3 - TSSK3</th>\n",
       "      <th>NP_001004456 - olfactory receptor 1M1 - OR1M1</th>\n",
       "      <th>NP_997625 - ADP-ribosylation factor-like protein 4A - ARL4A</th>\n",
       "      <th>NP_003270 - troponin C, skeletal muscle - TNNC2</th>\n",
       "    </tr>\n",
       "  </thead>\n",
       "  <tbody>\n",
       "    <tr>\n",
       "      <th>count</th>\n",
       "      <td>77.00</td>\n",
       "      <td>77.00</td>\n",
       "      <td>77.00</td>\n",
       "      <td>77.00</td>\n",
       "      <td>77.00</td>\n",
       "      <td>77.00</td>\n",
       "      <td>77.00</td>\n",
       "      <td>77.00</td>\n",
       "      <td>77.00</td>\n",
       "      <td>77.00</td>\n",
       "      <td>...</td>\n",
       "      <td>77.00</td>\n",
       "      <td>77.00</td>\n",
       "      <td>77.00</td>\n",
       "      <td>77.00</td>\n",
       "      <td>77.00</td>\n",
       "      <td>77.00</td>\n",
       "      <td>77.00</td>\n",
       "      <td>77.00</td>\n",
       "      <td>77.00</td>\n",
       "      <td>77.00</td>\n",
       "    </tr>\n",
       "    <tr>\n",
       "      <th>mean</th>\n",
       "      <td>58.91</td>\n",
       "      <td>846.53</td>\n",
       "      <td>0.09</td>\n",
       "      <td>870.88</td>\n",
       "      <td>-4.66</td>\n",
       "      <td>-7.23</td>\n",
       "      <td>4.03</td>\n",
       "      <td>3.42</td>\n",
       "      <td>2.58</td>\n",
       "      <td>2.78</td>\n",
       "      <td>...</td>\n",
       "      <td>0.53</td>\n",
       "      <td>0.56</td>\n",
       "      <td>0.52</td>\n",
       "      <td>0.30</td>\n",
       "      <td>0.19</td>\n",
       "      <td>-1.25</td>\n",
       "      <td>0.27</td>\n",
       "      <td>0.46</td>\n",
       "      <td>0.19</td>\n",
       "      <td>0.11</td>\n",
       "    </tr>\n",
       "    <tr>\n",
       "      <th>std</th>\n",
       "      <td>13.41</td>\n",
       "      <td>692.00</td>\n",
       "      <td>0.29</td>\n",
       "      <td>717.15</td>\n",
       "      <td>3.43</td>\n",
       "      <td>5.01</td>\n",
       "      <td>1.59</td>\n",
       "      <td>1.35</td>\n",
       "      <td>1.34</td>\n",
       "      <td>1.05</td>\n",
       "      <td>...</td>\n",
       "      <td>2.05</td>\n",
       "      <td>2.16</td>\n",
       "      <td>2.31</td>\n",
       "      <td>2.54</td>\n",
       "      <td>2.41</td>\n",
       "      <td>2.54</td>\n",
       "      <td>1.22</td>\n",
       "      <td>2.34</td>\n",
       "      <td>1.89</td>\n",
       "      <td>2.05</td>\n",
       "    </tr>\n",
       "    <tr>\n",
       "      <th>min</th>\n",
       "      <td>30.00</td>\n",
       "      <td>0.00</td>\n",
       "      <td>0.00</td>\n",
       "      <td>0.00</td>\n",
       "      <td>-12.00</td>\n",
       "      <td>-13.00</td>\n",
       "      <td>1.00</td>\n",
       "      <td>1.00</td>\n",
       "      <td>1.00</td>\n",
       "      <td>1.00</td>\n",
       "      <td>...</td>\n",
       "      <td>-7.06</td>\n",
       "      <td>-5.37</td>\n",
       "      <td>-6.73</td>\n",
       "      <td>-7.76</td>\n",
       "      <td>-6.97</td>\n",
       "      <td>-8.72</td>\n",
       "      <td>-4.21</td>\n",
       "      <td>-4.99</td>\n",
       "      <td>-7.20</td>\n",
       "      <td>-9.66</td>\n",
       "    </tr>\n",
       "    <tr>\n",
       "      <th>25%</th>\n",
       "      <td>50.00</td>\n",
       "      <td>230.00</td>\n",
       "      <td>0.00</td>\n",
       "      <td>230.00</td>\n",
       "      <td>-5.00</td>\n",
       "      <td>-12.00</td>\n",
       "      <td>3.00</td>\n",
       "      <td>2.00</td>\n",
       "      <td>1.00</td>\n",
       "      <td>2.00</td>\n",
       "      <td>...</td>\n",
       "      <td>-0.56</td>\n",
       "      <td>-0.65</td>\n",
       "      <td>-0.20</td>\n",
       "      <td>-1.19</td>\n",
       "      <td>-1.01</td>\n",
       "      <td>-3.53</td>\n",
       "      <td>-0.18</td>\n",
       "      <td>-1.45</td>\n",
       "      <td>-0.57</td>\n",
       "      <td>-0.49</td>\n",
       "    </tr>\n",
       "    <tr>\n",
       "      <th>50%</th>\n",
       "      <td>59.00</td>\n",
       "      <td>769.00</td>\n",
       "      <td>0.00</td>\n",
       "      <td>769.00</td>\n",
       "      <td>-5.00</td>\n",
       "      <td>-6.00</td>\n",
       "      <td>4.00</td>\n",
       "      <td>4.00</td>\n",
       "      <td>3.00</td>\n",
       "      <td>3.00</td>\n",
       "      <td>...</td>\n",
       "      <td>1.17</td>\n",
       "      <td>0.51</td>\n",
       "      <td>1.07</td>\n",
       "      <td>0.57</td>\n",
       "      <td>0.36</td>\n",
       "      <td>-0.46</td>\n",
       "      <td>0.39</td>\n",
       "      <td>0.71</td>\n",
       "      <td>0.46</td>\n",
       "      <td>0.64</td>\n",
       "    </tr>\n",
       "    <tr>\n",
       "      <th>75%</th>\n",
       "      <td>67.00</td>\n",
       "      <td>1319.00</td>\n",
       "      <td>0.00</td>\n",
       "      <td>1364.00</td>\n",
       "      <td>-3.00</td>\n",
       "      <td>-2.00</td>\n",
       "      <td>5.00</td>\n",
       "      <td>4.00</td>\n",
       "      <td>3.00</td>\n",
       "      <td>4.00</td>\n",
       "      <td>...</td>\n",
       "      <td>1.93</td>\n",
       "      <td>1.88</td>\n",
       "      <td>2.04</td>\n",
       "      <td>1.78</td>\n",
       "      <td>1.86</td>\n",
       "      <td>0.81</td>\n",
       "      <td>0.99</td>\n",
       "      <td>2.35</td>\n",
       "      <td>1.43</td>\n",
       "      <td>1.39</td>\n",
       "    </tr>\n",
       "    <tr>\n",
       "      <th>max</th>\n",
       "      <td>88.00</td>\n",
       "      <td>2850.00</td>\n",
       "      <td>1.00</td>\n",
       "      <td>2850.00</td>\n",
       "      <td>0.00</td>\n",
       "      <td>0.00</td>\n",
       "      <td>7.00</td>\n",
       "      <td>5.00</td>\n",
       "      <td>5.00</td>\n",
       "      <td>4.00</td>\n",
       "      <td>...</td>\n",
       "      <td>3.57</td>\n",
       "      <td>5.48</td>\n",
       "      <td>4.34</td>\n",
       "      <td>6.78</td>\n",
       "      <td>4.71</td>\n",
       "      <td>2.90</td>\n",
       "      <td>3.26</td>\n",
       "      <td>4.62</td>\n",
       "      <td>3.39</td>\n",
       "      <td>2.49</td>\n",
       "    </tr>\n",
       "  </tbody>\n",
       "</table>\n",
       "<p>8 rows × 8006 columns</p>\n",
       "</div>"
      ],
      "text/plain": [
       "       Age at Initial Pathologic Diagnosis  Days to Date of Last Contact  \\\n",
       "count                                77.00                         77.00   \n",
       "mean                                 58.91                        846.53   \n",
       "std                                  13.41                        692.00   \n",
       "min                                  30.00                          0.00   \n",
       "25%                                  50.00                        230.00   \n",
       "50%                                  59.00                        769.00   \n",
       "75%                                  67.00                       1319.00   \n",
       "max                                  88.00                       2850.00   \n",
       "\n",
       "       OS event  OS Time  SigClust Unsupervised mRNA  SigClust Intrinsic mRNA  \\\n",
       "count     77.00    77.00                       77.00                    77.00   \n",
       "mean       0.09   870.88                       -4.66                    -7.23   \n",
       "std        0.29   717.15                        3.43                     5.01   \n",
       "min        0.00     0.00                      -12.00                   -13.00   \n",
       "25%        0.00   230.00                       -5.00                   -12.00   \n",
       "50%        0.00   769.00                       -5.00                    -6.00   \n",
       "75%        0.00  1364.00                       -3.00                    -2.00   \n",
       "max        1.00  2850.00                        0.00                     0.00   \n",
       "\n",
       "       miRNA Clusters  methylation Clusters  CN Clusters  \\\n",
       "count           77.00                 77.00        77.00   \n",
       "mean             4.03                  3.42         2.58   \n",
       "std              1.59                  1.35         1.34   \n",
       "min              1.00                  1.00         1.00   \n",
       "25%              3.00                  2.00         1.00   \n",
       "50%              4.00                  4.00         3.00   \n",
       "75%              5.00                  4.00         3.00   \n",
       "max              7.00                  5.00         5.00   \n",
       "\n",
       "       Integrated Clusters (with PAM50)  \\\n",
       "count                             77.00   \n",
       "mean                               2.78   \n",
       "std                                1.05   \n",
       "min                                1.00   \n",
       "25%                                2.00   \n",
       "50%                                3.00   \n",
       "75%                                4.00   \n",
       "max                                4.00   \n",
       "\n",
       "                            ...                         \\\n",
       "count                       ...                          \n",
       "mean                        ...                          \n",
       "std                         ...                          \n",
       "min                         ...                          \n",
       "25%                         ...                          \n",
       "50%                         ...                          \n",
       "75%                         ...                          \n",
       "max                         ...                          \n",
       "\n",
       "       NP_001652 - ADP-ribosylation factor-like protein 4D - ARL4D  \\\n",
       "count                                              77.00             \n",
       "mean                                                0.53             \n",
       "std                                                 2.05             \n",
       "min                                                -7.06             \n",
       "25%                                                -0.56             \n",
       "50%                                                 1.17             \n",
       "75%                                                 1.93             \n",
       "max                                                 3.57             \n",
       "\n",
       "       NP_071753 - potassium channel subfamily K member 15 precursor - NA  \\\n",
       "count                                              77.00                    \n",
       "mean                                                0.56                    \n",
       "std                                                 2.16                    \n",
       "min                                                -5.37                    \n",
       "25%                                                -0.65                    \n",
       "50%                                                 0.51                    \n",
       "75%                                                 1.88                    \n",
       "max                                                 5.48                    \n",
       "\n",
       "       NP_001294 - protoheme IX farnesyltransferase, mitochondrial - COX10  \\\n",
       "count                                              77.00                     \n",
       "mean                                                0.52                     \n",
       "std                                                 2.31                     \n",
       "min                                                -6.73                     \n",
       "25%                                                -0.20                     \n",
       "50%                                                 1.07                     \n",
       "75%                                                 2.04                     \n",
       "max                                                 4.34                     \n",
       "\n",
       "       NP_065775 - RING finger protein 150 precursor - RNF150  \\\n",
       "count                                              77.00        \n",
       "mean                                                0.30        \n",
       "std                                                 2.54        \n",
       "min                                                -7.76        \n",
       "25%                                                -1.19        \n",
       "50%                                                 0.57        \n",
       "75%                                                 1.78        \n",
       "max                                                 6.78        \n",
       "\n",
       "       NP_001094348 - maestro heat-like repeat-containing protein family member 6 - C8ORF73  \\\n",
       "count                                              77.00                                      \n",
       "mean                                                0.19                                      \n",
       "std                                                 2.41                                      \n",
       "min                                                -6.97                                      \n",
       "25%                                                -1.01                                      \n",
       "50%                                                 0.36                                      \n",
       "75%                                                 1.86                                      \n",
       "max                                                 4.71                                      \n",
       "\n",
       "       XP_003846524 - PREDICTED: ADP-ribosylation factor-like protein 17-like - NA  \\\n",
       "count                                              77.00                             \n",
       "mean                                               -1.25                             \n",
       "std                                                 2.54                             \n",
       "min                                                -8.72                             \n",
       "25%                                                -3.53                             \n",
       "50%                                                -0.46                             \n",
       "75%                                                 0.81                             \n",
       "max                                                 2.90                             \n",
       "\n",
       "       NP_443073 - testis-specific serine/threonine-protein kinase 3 - TSSK3  \\\n",
       "count                                              77.00                       \n",
       "mean                                                0.27                       \n",
       "std                                                 1.22                       \n",
       "min                                                -4.21                       \n",
       "25%                                                -0.18                       \n",
       "50%                                                 0.39                       \n",
       "75%                                                 0.99                       \n",
       "max                                                 3.26                       \n",
       "\n",
       "       NP_001004456 - olfactory receptor 1M1 - OR1M1  \\\n",
       "count                                          77.00   \n",
       "mean                                            0.46   \n",
       "std                                             2.34   \n",
       "min                                            -4.99   \n",
       "25%                                            -1.45   \n",
       "50%                                             0.71   \n",
       "75%                                             2.35   \n",
       "max                                             4.62   \n",
       "\n",
       "       NP_997625 - ADP-ribosylation factor-like protein 4A - ARL4A  \\\n",
       "count                                              77.00             \n",
       "mean                                                0.19             \n",
       "std                                                 1.89             \n",
       "min                                                -7.20             \n",
       "25%                                                -0.57             \n",
       "50%                                                 0.46             \n",
       "75%                                                 1.43             \n",
       "max                                                 3.39             \n",
       "\n",
       "       NP_003270 - troponin C, skeletal muscle - TNNC2  \n",
       "count                                            77.00  \n",
       "mean                                              0.11  \n",
       "std                                               2.05  \n",
       "min                                              -9.66  \n",
       "25%                                              -0.49  \n",
       "50%                                               0.64  \n",
       "75%                                               1.39  \n",
       "max                                               2.49  \n",
       "\n",
       "[8 rows x 8006 columns]"
      ]
     },
     "execution_count": 17,
     "metadata": {},
     "output_type": "execute_result"
    }
   ],
   "source": [
    "#Counts of each column now match\n",
    "combined_table.describe().round(2)"
   ]
  },
  {
   "cell_type": "code",
   "execution_count": 18,
   "metadata": {
    "collapsed": false
   },
   "outputs": [],
   "source": [
    "#interesting columns for reference\n",
    "target_column = ['AJCC Stage']\n",
    "subtarget_columns = ['Metastasis','Tumor','Node']\n",
    "other_clusterings = ['miRNA Clusters']"
   ]
  },
  {
   "cell_type": "code",
   "execution_count": 19,
   "metadata": {
    "collapsed": false
   },
   "outputs": [
    {
     "data": {
      "text/plain": [
       "<matplotlib.text.Text at 0x10401fa50>"
      ]
     },
     "execution_count": 19,
     "metadata": {},
     "output_type": "execute_result"
    },
    {
     "data": {
      "image/png": "[encoded data removed]",
      "text/plain": [
       "<matplotlib.figure.Figure at 0x1154d1f90>"
      ]
     },
     "metadata": {},
     "output_type": "display_data"
    }
   ],
   "source": [
    "#reduced dataset categories\n",
    "freq_stage_processed = combined_table['AJCC Stage'].value_counts(ascending=True)\n",
    "\n",
    "freq_stage_processed = freq_stage_processed.plot(kind='bar')\n",
    "freq_stage_processed.set_xlabel('AJCC Stage Of Cancer')\n",
    "freq_stage_processed.set_ylabel('Frequency Of Stages')\n",
    "freq_stage_processed.set_title('Frequencies Of AJCC Stage In Dataset')"
   ]
  },
  {
   "cell_type": "code",
   "execution_count": 20,
   "metadata": {
    "collapsed": false
   },
   "outputs": [],
   "source": [
    "#reduce subclasses to classes in AJCC Stage\n",
    "combined_table['AJCC Stage Classes'] = pd.Series([val.replace(\"B\",\"\").replace(\"A\",\"\").replace(\"C\",\"\") \n",
    "                                                  for val in combined_table['AJCC Stage']], \n",
    "                                                  index = combined_table.index)"
   ]
  },
  {
   "cell_type": "code",
   "execution_count": 21,
   "metadata": {
    "collapsed": false
   },
   "outputs": [
    {
     "data": {
      "text/html": [
       "<div>\n",
       "<table border=\"1\" class=\"dataframe\">\n",
       "  <thead>\n",
       "    <tr style=\"text-align: right;\">\n",
       "      <th></th>\n",
       "      <th>Frequency</th>\n",
       "      <th>Frequency Without Subdivisions</th>\n",
       "    </tr>\n",
       "  </thead>\n",
       "  <tbody>\n",
       "    <tr>\n",
       "      <th>Stage I</th>\n",
       "      <td>3</td>\n",
       "      <td>8</td>\n",
       "    </tr>\n",
       "    <tr>\n",
       "      <th>Stage IA</th>\n",
       "      <td>7</td>\n",
       "      <td>-</td>\n",
       "    </tr>\n",
       "    <tr>\n",
       "      <th>Stage IB</th>\n",
       "      <td>2</td>\n",
       "      <td>-</td>\n",
       "    </tr>\n",
       "    <tr>\n",
       "      <th>Stage II</th>\n",
       "      <td>11</td>\n",
       "      <td>49</td>\n",
       "    </tr>\n",
       "    <tr>\n",
       "      <th>Stage IIA</th>\n",
       "      <td>30</td>\n",
       "      <td>-</td>\n",
       "    </tr>\n",
       "    <tr>\n",
       "      <th>Stage IIB</th>\n",
       "      <td>23</td>\n",
       "      <td>-</td>\n",
       "    </tr>\n",
       "    <tr>\n",
       "      <th>Stage III</th>\n",
       "      <td>3</td>\n",
       "      <td>19</td>\n",
       "    </tr>\n",
       "    <tr>\n",
       "      <th>Stage IIIA</th>\n",
       "      <td>12</td>\n",
       "      <td>-</td>\n",
       "    </tr>\n",
       "    <tr>\n",
       "      <th>Stage IIIB</th>\n",
       "      <td>6</td>\n",
       "      <td>-</td>\n",
       "    </tr>\n",
       "    <tr>\n",
       "      <th>Stage IIIC</th>\n",
       "      <td>6</td>\n",
       "      <td>-</td>\n",
       "    </tr>\n",
       "    <tr>\n",
       "      <th>Stage IV</th>\n",
       "      <td>2</td>\n",
       "      <td>1</td>\n",
       "    </tr>\n",
       "  </tbody>\n",
       "</table>\n",
       "</div>"
      ],
      "text/plain": [
       "            Frequency Frequency Without Subdivisions\n",
       "Stage I             3                              8\n",
       "Stage IA            7                              -\n",
       "Stage IB            2                              -\n",
       "Stage II           11                             49\n",
       "Stage IIA          30                              -\n",
       "Stage IIB          23                              -\n",
       "Stage III           3                             19\n",
       "Stage IIIA         12                              -\n",
       "Stage IIIB          6                              -\n",
       "Stage IIIC          6                              -\n",
       "Stage IV            2                              1"
      ]
     },
     "execution_count": 21,
     "metadata": {},
     "output_type": "execute_result"
    }
   ],
   "source": [
    "freq_target_variable['Frequency Without Subdivisions'] = combined_table['AJCC Stage Classes'].value_counts()\n",
    "freq_target_variable.fillna(\"-\",inplace=True)\n",
    "freq_target_variable.sort_index()"
   ]
  },
  {
   "cell_type": "code",
   "execution_count": 22,
   "metadata": {
    "collapsed": false
   },
   "outputs": [
    {
     "data": {
      "text/plain": [
       "<matplotlib.text.Text at 0x11ac15810>"
      ]
     },
     "execution_count": 22,
     "metadata": {},
     "output_type": "execute_result"
    },
    {
     "data": {
      "image/png": "[encoded data removed]",
      "text/plain": [
       "<matplotlib.figure.Figure at 0x11498e710>"
      ]
     },
     "metadata": {},
     "output_type": "display_data"
    }
   ],
   "source": [
    "#AJCC Stage Classes\n",
    "freq_reduced_stage_processed = combined_table['AJCC Stage Classes'].value_counts(ascending=True)\n",
    "\n",
    "freq_reduced_stage_processed = freq_reduced_stage_processed.plot(kind='bar')\n",
    "freq_reduced_stage_processed.set_xlabel(\"AJCC Reduced Stage Of Cancer\")\n",
    "freq_reduced_stage_processed.set_ylabel(\"Frequency In Data Set\")\n",
    "freq_reduced_stage_processed.set_title(\"Frequencies Of Reduced AJCC Stages In Dataset\")"
   ]
  },
  {
   "cell_type": "code",
   "execution_count": 23,
   "metadata": {
    "collapsed": false
   },
   "outputs": [
    {
     "name": "stdout",
     "output_type": "stream",
     "text": [
      "Complete TCGA ID\n",
      "TCGA-A2-A0SW    Stage IV\n",
      "Name: AJCC Stage, dtype: object\n",
      "Complete TCGA ID\n",
      "TCGA-C8-A12U    Stage IB\n",
      "Name: AJCC Stage, dtype: object\n"
     ]
    }
   ],
   "source": [
    "#under-represented subclasses (those with one entry)\n",
    "print combined_table['AJCC Stage'][combined_table['AJCC Stage'] == \"Stage IV\"]\n",
    "print combined_table['AJCC Stage'][combined_table['AJCC Stage'] == \"Stage IB\"]"
   ]
  },
  {
   "cell_type": "code",
   "execution_count": 24,
   "metadata": {
    "collapsed": false
   },
   "outputs": [],
   "source": [
    "#dropping these as potential outliers\n",
    "combined_table.drop(\"TCGA-A2-A0SW\", axis = 0, inplace = True)\n",
    "combined_table.drop(\"TCGA-C8-A12U\", axis = 0, inplace = True)"
   ]
  },
  {
   "cell_type": "code",
   "execution_count": 25,
   "metadata": {
    "collapsed": false
   },
   "outputs": [
    {
     "name": "stdout",
     "output_type": "stream",
     "text": [
      "Frequency Of Target Classes\n",
      "Stage I       7\n",
      "Stage III    19\n",
      "Stage II     49\n",
      "Name: AJCC Stage Classes, dtype: int64\n"
     ]
    },
    {
     "data": {
      "text/plain": [
       "<matplotlib.text.Text at 0x11af8ae50>"
      ]
     },
     "execution_count": 25,
     "metadata": {},
     "output_type": "execute_result"
    },
    {
     "data": {
      "image/png": "[encoded data removed]",
      "text/plain": [
       "<matplotlib.figure.Figure at 0x103b01250>"
      ]
     },
     "metadata": {},
     "output_type": "display_data"
    }
   ],
   "source": [
    "print \"Frequency Of Target Classes\"\n",
    "print combined_table['AJCC Stage Classes'].value_counts(ascending=True)\n",
    "\n",
    "freq_reduced_stage_processed_cut = combined_table['AJCC Stage Classes'].value_counts(ascending=True)\n",
    "\n",
    "freq_reduced_stage_processed_cut = freq_reduced_stage_processed_cut.plot(kind='bar')\n",
    "freq_reduced_stage_processed_cut.set_xlabel(\"AJCC Reduced Stage Of Cancer\")\n",
    "freq_reduced_stage_processed_cut.set_ylabel(\"Frequency In Data Set\")\n",
    "freq_reduced_stage_processed_cut.set_title(\"Frequencies Of Reduced AJCC Stages In Dataset Without Smallest Subclasses\")"
   ]
  },
  {
   "cell_type": "code",
   "execution_count": 26,
   "metadata": {
    "collapsed": false
   },
   "outputs": [],
   "source": [
    "#encoding target\n",
    "from sklearn.preprocessing import LabelEncoder\n",
    "lbl_enc = LabelEncoder().fit(combined_table['AJCC Stage Classes'])\n",
    "combined_table['AJCC Stage Classes'] = lbl_enc.transform(combined_table['AJCC Stage Classes'])"
   ]
  },
  {
   "cell_type": "code",
   "execution_count": 27,
   "metadata": {
    "collapsed": false
   },
   "outputs": [
    {
     "data": {
      "text/plain": [
       "<matplotlib.text.Text at 0x11b238ed0>"
      ]
     },
     "execution_count": 27,
     "metadata": {},
     "output_type": "execute_result"
    },
    {
     "data": {
      "image/png": "[encoded data removed]",
      "text/plain": [
       "<matplotlib.figure.Figure at 0x11a357fd0>"
      ]
     },
     "metadata": {},
     "output_type": "display_data"
    }
   ],
   "source": [
    "#Coded targets\n",
    "freq_reduced_stage_encoded = combined_table['AJCC Stage Classes'].value_counts(ascending=True)\n",
    "\n",
    "freq_reduced_stage_encoded = freq_reduced_stage_encoded.plot(kind='bar')\n",
    "freq_reduced_stage_encoded.set_xlabel(\"AJCC Encoded Reduced Stage Of Cancer\")\n",
    "freq_reduced_stage_encoded.set_ylabel(\"Frequency In Data Set\")\n",
    "freq_reduced_stage_encoded.set_title(\"Frequencies Of Encoded Reduced AJCC Stages In Dataset\")"
   ]
  },
  {
   "cell_type": "code",
   "execution_count": 28,
   "metadata": {
    "collapsed": true
   },
   "outputs": [],
   "source": [
    "#data columns\n",
    "protein_columns = [val for val in combined_table.columns if \"NP_\" in val or \"XP_\" in val or \"YP_\" in val]\n",
    "combined_table_proteins = combined_table[protein_columns]"
   ]
  },
  {
   "cell_type": "code",
   "execution_count": 29,
   "metadata": {
    "collapsed": false
   },
   "outputs": [],
   "source": [
    "#Data Splitting\n",
    "from sklearn.model_selection import StratifiedShuffleSplit\n",
    "\n",
    "def split_data(data,target,eval_size):\n",
    "    kf = StratifiedShuffleSplit(n_splits = 1, test_size = eval_size, random_state = 0)\n",
    "    for train_indice, valid_indice in kf.split(data,target):\n",
    "        X_train, X_valid = data.iloc[train_indice], data.iloc[valid_indice]\n",
    "        y_train, y_valid = target.iloc[train_indice],target.iloc[valid_indice]\n",
    "    return X_train, y_train, X_valid, y_valid"
   ]
  },
  {
   "cell_type": "code",
   "execution_count": 30,
   "metadata": {
    "collapsed": false
   },
   "outputs": [],
   "source": [
    "#Dummy classifier for benchmark\n",
    "from sklearn.dummy import DummyClassifier\n",
    "\n",
    "def dummy_clf(val,score):\n",
    "    X_train_prot, y_train_prot, X_valid_prot, y_valid_prot = split_data(combined_table_proteins,\n",
    "                                                                        combined_table[val],0.35)\n",
    "    dummy_clf = DummyClassifier(strategy = 'most_frequent').fit(X_train_prot,y_train_prot)\n",
    "    score = score(y_valid_prot,dummy_clf.predict(X_valid_prot),average = 'weighted').round(2)\n",
    "    return score"
   ]
  },
  {
   "cell_type": "code",
   "execution_count": 31,
   "metadata": {
    "collapsed": false
   },
   "outputs": [],
   "source": [
    "#import possible scoring metrics\n",
    "from sklearn.metrics import accuracy_score\n",
    "from sklearn.metrics import f1_score\n",
    "from sklearn.metrics import log_loss\n",
    "from sklearn.metrics import cohen_kappa_score\n",
    "from sklearn.metrics import hinge_loss\n",
    "from sklearn.metrics import fbeta_score\n",
    "from sklearn.metrics import hamming_loss\n",
    "from sklearn.metrics import precision_score\n",
    "from sklearn.metrics import recall_score"
   ]
  },
  {
   "cell_type": "code",
   "execution_count": 32,
   "metadata": {
    "collapsed": false
   },
   "outputs": [
    {
     "name": "stdout",
     "output_type": "stream",
     "text": [
      "                    Unique Values       Mode  Dummy Score\n",
      "AJCC Stage                      9  Stage IIA         0.14\n",
      "Metastasis                      1         M0         1.00\n",
      "Tumor                           4         T2         0.53\n",
      "Node                            4         N0         0.35\n",
      "miRNA Clusters                  7          4         0.20\n",
      "AJCC Stage Classes              3          1         0.53\n"
     ]
    },
    {
     "name": "stderr",
     "output_type": "stream",
     "text": [
      "/Users/WonderWaffle/anaconda/lib/python2.7/site-packages/sklearn/metrics/classification.py:1113: UndefinedMetricWarning: F-score is ill-defined and being set to 0.0 in labels with no predicted samples.\n",
      "  'precision', 'predicted', average, warn_for)\n"
     ]
    }
   ],
   "source": [
    "#Dummy scores for targets and other categories of interest\n",
    "exploriative = pd.DataFrame(index = target_column + subtarget_columns + other_clusterings + ['AJCC Stage Classes'])\n",
    "exploriative['Unique Values'] = [len(combined_table[val].unique()) for val in exploriative.index]\n",
    "exploriative['Mode'] = [combined_table[val].mode().iloc[0] for val in exploriative.index]\n",
    "exploriative['Dummy Score'] = [dummy_clf(val,f1_score) for val in exploriative.index]\n",
    "print exploriative"
   ]
  },
  {
   "cell_type": "code",
   "execution_count": 33,
   "metadata": {
    "collapsed": false
   },
   "outputs": [],
   "source": [
    "#split data into train and test\n",
    "X_train_prot, y_train_prot, X_valid_prot, y_valid_prot = split_data(combined_table_proteins,\n",
    "                                                                    combined_table['AJCC Stage Classes'],0.35)"
   ]
  },
  {
   "cell_type": "code",
   "execution_count": 34,
   "metadata": {
    "collapsed": false
   },
   "outputs": [
    {
     "data": {
      "text/plain": [
       "<matplotlib.text.Text at 0x11b4ebad0>"
      ]
     },
     "execution_count": 34,
     "metadata": {},
     "output_type": "execute_result"
    },
    {
     "data": {
      "image/png": "[encoded data removed]",
      "text/plain": [
       "<matplotlib.figure.Figure at 0x11b220a10>"
      ]
     },
     "metadata": {},
     "output_type": "display_data"
    }
   ],
   "source": [
    "#Training set sizes\n",
    "freq_reduced_stage_training_encoded = y_train_prot.value_counts(ascending=True)\n",
    "\n",
    "freq_reduced_stage_training_encoded = freq_reduced_stage_training_encoded.plot(kind='bar')\n",
    "freq_reduced_stage_training_encoded.set_xlabel(\"AJCC Encoded Reduced Stage Of Cancer - Training\")\n",
    "freq_reduced_stage_training_encoded.set_ylabel(\"Frequency In Data Set\")\n",
    "freq_reduced_stage_training_encoded.set_title(\"Frequencies Of Encoded Reduced AJCC Stages In Dataset\")"
   ]
  },
  {
   "cell_type": "code",
   "execution_count": 35,
   "metadata": {
    "collapsed": false
   },
   "outputs": [
    {
     "data": {
      "text/plain": [
       "<matplotlib.text.Text at 0x11c506450>"
      ]
     },
     "execution_count": 35,
     "metadata": {},
     "output_type": "execute_result"
    },
    {
     "data": {
      "image/png": "[encoded data removed]",
      "text/plain": [
       "<matplotlib.figure.Figure at 0x1159e4810>"
      ]
     },
     "metadata": {},
     "output_type": "display_data"
    }
   ],
   "source": [
    "#Test set category sizes\n",
    "freq_reduced_stage_testing_encoded = y_valid_prot.value_counts(ascending=True)\n",
    "\n",
    "freq_reduced_stage_testing_encoded = freq_reduced_stage_testing_encoded.plot(kind='bar')\n",
    "freq_reduced_stage_testing_encoded.set_xlabel(\"AJCC Encoded Reduced Stage Of Cancer - Testing\")\n",
    "freq_reduced_stage_testing_encoded.set_ylabel(\"Frequency In Data Set\")\n",
    "freq_reduced_stage_testing_encoded.set_title(\"Frequencies Of Encoded Reduced AJCC Stages In Dataset\")"
   ]
  },
  {
   "cell_type": "code",
   "execution_count": 36,
   "metadata": {
    "collapsed": false
   },
   "outputs": [],
   "source": [
    "#train default algorithms\n",
    "from sklearn.ensemble import RandomForestClassifier\n",
    "from sklearn.ensemble import GradientBoostingClassifier\n",
    "from sklearn.linear_model import LogisticRegression\n",
    "from sklearn.naive_bayes import GaussianNB\n",
    "from sklearn.svm import SVC\n",
    "from sklearn.cluster import KMeans\n",
    "import xgboost as xgb\n",
    "from xgboost import XGBClassifier\n",
    "\n",
    "rfc = RandomForestClassifier(random_state = 0)\n",
    "xgb = XGBClassifier(seed = 0)\n",
    "lgr = LogisticRegression(random_state = 0)\n",
    "kmm = KMeans(random_state = 0)\n",
    "svm = SVC(random_state = 0, probability = True)\n",
    "gnb = GaussianNB()"
   ]
  },
  {
   "cell_type": "code",
   "execution_count": 37,
   "metadata": {
    "collapsed": false
   },
   "outputs": [],
   "source": [
    "rfc_trained = rfc.fit(X_train_prot,y_train_prot)\n",
    "xgb_trained = xgb.fit(X_train_prot,y_train_prot)\n",
    "lgr_trained = lgr.fit(X_train_prot,y_train_prot)\n",
    "kmm_trained = kmm.fit(X_train_prot,y_train_prot)\n",
    "gnb_trained = GaussianNB().fit(X_train_prot,y_train_prot)\n",
    "svm_trained = svm.fit(X_train_prot,y_train_prot)"
   ]
  },
  {
   "cell_type": "code",
   "execution_count": 38,
   "metadata": {
    "collapsed": false
   },
   "outputs": [],
   "source": [
    "#Create Scoring Grid\n",
    "models = ['Random Forest','Gradient Boosting','Logistic Regression','KMeans','Naive Bayes','Support Vector']\n",
    "model_codes = [rfc_trained,xgb_trained,lgr_trained,kmm_trained,gnb_trained,svm_trained]\n",
    "scores = [f1_score,accuracy_score,cohen_kappa_score,log_loss,\"score\",hinge_loss,fbeta_score,hamming_loss,\n",
    "          precision_score,recall_score]\n",
    "scoring_names = ['F1 Score','Accuracy','Kappa','Log Loss','Score','Hinge Loss','Fbeta Score','Hamming Loss',\n",
    "                 'Precision','Recall Score']\n",
    "scoring_grid = pd.DataFrame(index = models)"
   ]
  },
  {
   "cell_type": "code",
   "execution_count": 39,
   "metadata": {
    "collapsed": false,
    "scrolled": true
   },
   "outputs": [
    {
     "name": "stderr",
     "output_type": "stream",
     "text": [
      "/Users/WonderWaffle/anaconda/lib/python2.7/site-packages/sklearn/metrics/classification.py:1115: UndefinedMetricWarning: F-score is ill-defined and being set to 0.0 in labels with no true samples.\n",
      "  'recall', 'true', average, warn_for)\n",
      "/Users/WonderWaffle/anaconda/lib/python2.7/site-packages/sklearn/metrics/classification.py:1113: UndefinedMetricWarning: Precision is ill-defined and being set to 0.0 in labels with no predicted samples.\n",
      "  'precision', 'predicted', average, warn_for)\n"
     ]
    },
    {
     "name": "stdout",
     "output_type": "stream",
     "text": [
      "                     F1 Score  Accuracy  Kappa Log Loss      Score Hinge Loss  \\\n",
      "Random Forest            0.53      0.59  -0.03     3.23       0.59       0.91   \n",
      "Gradient Boosting        0.47      0.52  -0.14     1.52       0.52       1.05   \n",
      "Logistic Regression      0.39      0.41  -0.29     2.72       0.41       1.11   \n",
      "KMeans                   0.14      0.15  -0.05        - -399630.90          -   \n",
      "Naive Bayes              0.48      0.56  -0.17    15.35       0.56       0.89   \n",
      "Support Vector           0.53      0.67   0.00     0.83       0.67       0.87   \n",
      "\n",
      "                     Fbeta Score  Hamming Loss  Precision  Recall Score  \n",
      "Random Forest               0.51          0.41       0.50          0.59  \n",
      "Gradient Boosting           0.44          0.48       0.42          0.52  \n",
      "Logistic Regression         0.37          0.59       0.37          0.41  \n",
      "KMeans                      0.16          0.85       0.21          0.15  \n",
      "Naive Bayes                 0.44          0.44       0.42          0.56  \n",
      "Support Vector              0.48          0.33       0.44          0.67  \n"
     ]
    },
    {
     "name": "stderr",
     "output_type": "stream",
     "text": [
      "/Users/WonderWaffle/anaconda/lib/python2.7/site-packages/sklearn/metrics/classification.py:1115: UndefinedMetricWarning: Recall is ill-defined and being set to 0.0 in labels with no true samples.\n",
      "  'recall', 'true', average, warn_for)\n"
     ]
    }
   ],
   "source": [
    "def create_scoring_grid(data,target,scoring_grid,models):\n",
    "    for i in range(len(scores)):\n",
    "        score = []\n",
    "        for j in models:\n",
    "            if (scores[i] == log_loss or scores[i] == hinge_loss):\n",
    "                try:\n",
    "                    score.append(scores[i](target,j.predict_proba(data)).round(2))\n",
    "                except:\n",
    "                    score.append(\"-\")\n",
    "            elif (scores[i] == f1_score or scores[i] == precision_score or scores[i] == recall_score):\n",
    "                score.append(scores[i](target,j.predict(data),average = 'weighted').round(2))\n",
    "            elif (scores[i] == fbeta_score):\n",
    "                score.append(scores[i](target,j.predict(data),beta = 0.5,average = 'weighted').round(2))\n",
    "            elif (scores[i] == \"score\"):\n",
    "                try:\n",
    "                    score.append(j.score(data,target).round(2))\n",
    "                except:\n",
    "                    pass\n",
    "            else:\n",
    "                score.append(scores[i](target,j.predict(data)).round(2))\n",
    "        scoring_grid[scoring_names[i]] = score\n",
    "    return scoring_grid\n",
    "print create_scoring_grid(X_valid_prot,y_valid_prot,scoring_grid,model_codes)"
   ]
  },
  {
   "cell_type": "code",
   "execution_count": 40,
   "metadata": {
    "collapsed": false
   },
   "outputs": [],
   "source": [
    "from sklearn.model_selection import RandomizedSearchCV\n",
    "from sklearn.model_selection import GridSearchCV\n",
    "from sklearn.metrics import make_scorer\n",
    "\n",
    "def evaluate(data_train,target_train,data_valid,target_valid,score,params,pipes):\n",
    "    model_codes = []\n",
    "    models_use = []\n",
    "    try:\n",
    "        rfc_tuned = GridSearchCV(pipes['rfc_pipe'],params['rfc_params'],\n",
    "                                       scoring=score,cv=3).fit(data_train,target_train)\n",
    "        model_codes.append(rfc_tuned)\n",
    "        models_use.append(\"Random Forest\")\n",
    "    except:\n",
    "        pass\n",
    "    try:\n",
    "        lgr_tuned = GridSearchCV(pipes['lgr_pipe'],params['lgr_params'],\n",
    "                                       scoring=score,cv=3).fit(data_train,target_train)\n",
    "        model_codes.append(lgr_tuned)\n",
    "        models_use.append(\"Logistic Regression\")\n",
    "    except:\n",
    "        pass\n",
    "    try:\n",
    "        kmm_tuned = GridSearchCV(pipes['kmm_pipe'],params['kmm_params'],\n",
    "                                 scoring=score,cv=3).fit(data_train,target_train)\n",
    "        model_codes.append(kmm_tuned)\n",
    "        models_use.append(\"KMeans\")\n",
    "    except:\n",
    "        pass\n",
    "    try:\n",
    "        svm_tuned = GridSearchCV(pipes['svm_pipe'],params['svm_params'],\n",
    "                                       scoring=score,cv=3).fit(data_train,target_train)\n",
    "        model_codes.append(svm_tuned)\n",
    "        models_use.append(\"Support Vector\")\n",
    "    except:\n",
    "        pass\n",
    "    try:\n",
    "        xgb_tuned = GridSearchCV(pipes['xgb_pipe'],params['xgb_params'],\n",
    "                                 scoring=score,cv=3).fit(data_train,target_train)\n",
    "        model_codes.append(xgb_tuned)\n",
    "        models_use.append(\"XGBoost\")\n",
    "    except:\n",
    "        pass\n",
    "    try:\n",
    "        gnb_tuned = GridSearchCV(pipes['gnb_pipe'],params['gnb_params'],\n",
    "                                 scoring=score,cv=3).fit(data_train,target_train)\n",
    "        model_codes.append(gnb_tuned)\n",
    "        models_use.append(\"Naive Bayes\")\n",
    "    except:\n",
    "        pass\n",
    "    scoring_grid_tuned = pd.DataFrame(index = models_use)\n",
    "    scoring_grid_tuned = create_scoring_grid(data_valid,target_valid,scoring_grid_tuned,model_codes)\n",
    "    return scoring_grid_tuned, model_codes"
   ]
  },
  {
   "cell_type": "code",
   "execution_count": 41,
   "metadata": {
    "collapsed": false
   },
   "outputs": [],
   "source": [
    "from sklearn.decomposition import PCA\n",
    "\n",
    "pca = PCA(svd_solver = 'full', random_state = 0, n_components = 48)\n",
    "\n",
    "pca_fitted = pca.fit(X_train_prot,y_train_prot)\n",
    "\n",
    "X_train_pca = pca_fitted.transform(X_train_prot)\n",
    "X_train_pca = pd.DataFrame(X_train_pca, index = X_train_prot.index)\n",
    "X_valid_pca = pca_fitted.transform(X_valid_prot)\n",
    "X_valid_pca = pd.DataFrame(X_valid_pca, index = X_valid_prot.index)"
   ]
  },
  {
   "cell_type": "code",
   "execution_count": 42,
   "metadata": {
    "collapsed": false
   },
   "outputs": [],
   "source": [
    "kbest_params = {'rfc_params':{},'xgb_params':{},'lgr_params':{},'kmm_params':{},'svm_params':{}, 'gnb_params':{}}\n",
    "\n",
    "for i in kbest_params.values():\n",
    "    i['kbest__k'] = range(1,49)"
   ]
  },
  {
   "cell_type": "code",
   "execution_count": 43,
   "metadata": {
    "collapsed": false
   },
   "outputs": [],
   "source": [
    "from sklearn.feature_selection import SelectKBest\n",
    "from sklearn.feature_selection import chi2\n",
    "from sklearn.feature_selection import f_classif\n",
    "from sklearn.pipeline import Pipeline\n",
    "\n",
    "kbest = SelectKBest(f_classif)\n",
    "\n",
    "kbest_pca_rfc_pipe = Pipeline([('kbest',kbest),('rfc',rfc)])\n",
    "kbest_pca_xgb_pipe = Pipeline([('kbest',kbest),('xgb',xgb)])\n",
    "kbest_pca_lgr_pipe = Pipeline([('kbest',kbest),('lgr',lgr)])\n",
    "kbest_pca_kmm_pipe = Pipeline([('kbest',kbest),('kmm',kmm)])\n",
    "kbest_pca_svm_pipe = Pipeline([('kbest',kbest),('svm',svm)])\n",
    "kbest_pca_gnb_pipe = Pipeline([('kbest',kbest),('gnb',gnb)])\n",
    "\n",
    "kbest_pipes = {'rfc_pipe':kbest_pca_rfc_pipe,'xgb_pipe':kbest_pca_xgb_pipe,'lgr_pipe':kbest_pca_lgr_pipe,\n",
    "               'kmm_pipe':kbest_pca_kmm_pipe,'svm_pipe':kbest_pca_svm_pipe,'gnb_pipe':kbest_pca_gnb_pipe}"
   ]
  },
  {
   "cell_type": "code",
   "execution_count": 44,
   "metadata": {
    "collapsed": false
   },
   "outputs": [],
   "source": [
    "#find optimum number of PCA features for each algorithm\n",
    "kbest_pca_scoring_grid, kbest_pca_tuned = evaluate(X_train_pca,y_train_prot,X_valid_pca,y_valid_prot,'f1_weighted',\n",
    "                                                   kbest_params,kbest_pipes)"
   ]
  },
  {
   "cell_type": "code",
   "execution_count": 45,
   "metadata": {
    "collapsed": false
   },
   "outputs": [
    {
     "name": "stdout",
     "output_type": "stream",
     "text": [
      "{'kbest__k': 29}\n",
      "{'kbest__k': 4}\n",
      "{'kbest__k': 11}\n",
      "{'kbest__k': 1}\n",
      "{'kbest__k': 4}\n",
      "{'kbest__k': 46}\n",
      "                     Initial Scores\n",
      "Random Forest                  0.60\n",
      "Logistic Regression            0.58\n",
      "KMeans                         0.42\n",
      "Support Vector                 0.54\n",
      "XGBoost                        0.58\n",
      "Naive Bayes                    0.51\n"
     ]
    }
   ],
   "source": [
    "#score and best number of features for each\n",
    "features_chosen = []\n",
    "cv_scores = []\n",
    "tuning_cv_results = pd.DataFrame(index = kbest_pca_scoring_grid.index)\n",
    "for i in kbest_pca_tuned:\n",
    "    print i.best_params_\n",
    "    features_chosen.append(i.best_params_['kbest__k'])\n",
    "    cv_scores.append(i.best_score_.round(2))\n",
    "tuning_cv_results['Initial Scores'] = cv_scores\n",
    "print tuning_cv_results"
   ]
  },
  {
   "cell_type": "code",
   "execution_count": 46,
   "metadata": {
    "collapsed": false
   },
   "outputs": [
    {
     "name": "stdout",
     "output_type": "stream",
     "text": [
      "                     K Chosen  F1 Score  Accuracy  Kappa Log Loss  Score  \\\n",
      "Random Forest              29      0.53      0.67   0.00      3.2   0.53   \n",
      "Logistic Regression         4      0.55      0.59   0.00     0.87   0.55   \n",
      "KMeans                     11      0.15      0.11  -0.12        -   0.15   \n",
      "Support Vector              1      0.52      0.63  -0.04      0.9   0.52   \n",
      "XGBoost                     4      0.66      0.70   0.28     1.35   0.66   \n",
      "Naive Bayes                46      0.31      0.30  -0.22     1.34   0.31   \n",
      "\n",
      "                    Hinge Loss  Fbeta Score  Hamming Loss  Precision  \\\n",
      "Random Forest             0.88         0.48          0.33       0.44   \n",
      "Logistic Regression       0.89         0.54          0.41       0.56   \n",
      "KMeans                       -         0.20          0.89       0.25   \n",
      "Support Vector            0.96         0.46          0.37       0.44   \n",
      "XGBoost                   0.68         0.65          0.30       0.64   \n",
      "Naive Bayes               1.17         0.33          0.70       0.35   \n",
      "\n",
      "                     Recall Score  \n",
      "Random Forest                0.67  \n",
      "Logistic Regression          0.59  \n",
      "KMeans                       0.11  \n",
      "Support Vector               0.63  \n",
      "XGBoost                      0.70  \n",
      "Naive Bayes                  0.30  \n"
     ]
    }
   ],
   "source": [
    "#testing set score\n",
    "kbest_pca_scoring_grid.insert(0, 'K Chosen', features_chosen)\n",
    "print kbest_pca_scoring_grid"
   ]
  },
  {
   "cell_type": "code",
   "execution_count": 47,
   "metadata": {
    "collapsed": false
   },
   "outputs": [],
   "source": [
    "#create feature sets for each algorithm\n",
    "X_train_kbest_rfc = kbest_pca_tuned[0].best_estimator_.steps[0][1].transform(X_train_pca)\n",
    "X_train_kbest_lgr = kbest_pca_tuned[1].best_estimator_.steps[0][1].transform(X_train_pca)\n",
    "X_train_kbest_kmm = kbest_pca_tuned[2].best_estimator_.steps[0][1].transform(X_train_pca)\n",
    "X_train_kbest_svm = kbest_pca_tuned[3].best_estimator_.steps[0][1].transform(X_train_pca)\n",
    "X_train_kbest_xgb = kbest_pca_tuned[4].best_estimator_.steps[0][1].transform(X_train_pca)\n",
    "X_valid_kbest_rfc = kbest_pca_tuned[0].best_estimator_.steps[0][1].transform(X_valid_pca)\n",
    "X_valid_kbest_lgr = kbest_pca_tuned[1].best_estimator_.steps[0][1].transform(X_valid_pca)\n",
    "X_valid_kbest_kmm = kbest_pca_tuned[2].best_estimator_.steps[0][1].transform(X_valid_pca)\n",
    "X_valid_kbest_svm = kbest_pca_tuned[3].best_estimator_.steps[0][1].transform(X_valid_pca)\n",
    "X_valid_kbest_xgb = kbest_pca_tuned[4].best_estimator_.steps[0][1].transform(X_valid_pca)"
   ]
  },
  {
   "cell_type": "code",
   "execution_count": 48,
   "metadata": {
    "collapsed": false
   },
   "outputs": [
    {
     "name": "stdout",
     "output_type": "stream",
     "text": [
      "         F1 Score  Accuracy  Kappa  Log Loss  Score  Hinge Loss  Fbeta Score  \\\n",
      "XGBoost      0.66       0.7   0.28      1.81   0.66        0.67         0.65   \n",
      "\n",
      "         Hamming Loss  Precision  Recall Score  \n",
      "XGBoost           0.3       0.64           0.7  \n",
      "0.635280078215\n",
      "{'xgb__n_estimators': 670}\n",
      "                     Initial Scores Tuning Stage 1\n",
      "Random Forest                  0.60              -\n",
      "Logistic Regression            0.58              -\n",
      "KMeans                         0.42              -\n",
      "Support Vector                 0.54              -\n",
      "XGBoost                        0.58           0.64\n",
      "Naive Bayes                    0.51              -\n"
     ]
    }
   ],
   "source": [
    "#tune XGBClassifier\n",
    "xgb = XGBClassifier(learning_rate=0.1,seed=0)\n",
    "xgb_params_cv = {\"xgb__n_estimators\": range(1,1201)}\n",
    "params = {'xgb_params':xgb_params_cv}\n",
    "pipe = {'xgb_pipe':Pipeline([('xgb',xgb)])}\n",
    "scorer = make_scorer(cohen_kappa_score)\n",
    "\n",
    "tuned_scoring_grid, tuned = evaluate(X_train_kbest_xgb,y_train_prot,X_valid_kbest_xgb,y_valid_prot,'f1_weighted',\n",
    "                                             params,pipe)\n",
    "\n",
    "#test set scoring grid for reference\n",
    "print tuned_scoring_grid\n",
    "\n",
    "for i in tuned:\n",
    "    print i.best_score_\n",
    "    print i.best_params_\n",
    "    \n",
    "tuning_cv_results['Tuning Stage 1'] = [\"-\",\"-\",\"-\",\"-\",tuned[0].best_score_.round(2),\"-\"]\n",
    "print tuning_cv_results"
   ]
  },
  {
   "cell_type": "code",
   "execution_count": 49,
   "metadata": {
    "collapsed": false
   },
   "outputs": [
    {
     "name": "stdout",
     "output_type": "stream",
     "text": [
      "         F1 Score  Accuracy  Kappa  Log Loss  Score  Hinge Loss  Fbeta Score  \\\n",
      "XGBoost      0.66       0.7   0.28      1.71   0.66        0.71         0.65   \n",
      "\n",
      "         Hamming Loss  Precision  Recall Score  \n",
      "XGBoost           0.3       0.64           0.7  \n",
      "0.670468923186\n",
      "{'xgb__min_child_weight': 2, 'xgb__max_depth': 3}\n",
      "                     Initial Scores Tuning Stage 1 Tuning Stage 2\n",
      "Random Forest                  0.60              -              -\n",
      "Logistic Regression            0.58              -              -\n",
      "KMeans                         0.42              -              -\n",
      "Support Vector                 0.54              -              -\n",
      "XGBoost                        0.58           0.64           0.67\n",
      "Naive Bayes                    0.51              -              -\n"
     ]
    }
   ],
   "source": [
    "xgb = XGBClassifier(learning_rate=0.1,n_estimators=670,seed=0)\n",
    "xgb_params_cv = {\"xgb__max_depth\": range(1,30),\"xgb__min_child_weight\": range(1,10)}\n",
    "params = {'xgb_params':xgb_params_cv}\n",
    "\n",
    "pipe = {'xgb_pipe':Pipeline([('xgb',xgb)])}\n",
    "\n",
    "tuned_scoring_grid, tuned = evaluate(X_train_kbest_xgb,y_train_prot,X_valid_kbest_xgb,y_valid_prot,'f1_weighted',\n",
    "                                     params,pipe)\n",
    "\n",
    "print tuned_scoring_grid\n",
    "\n",
    "for i in tuned:\n",
    "    print i.best_score_\n",
    "    print i.best_params_\n",
    "    \n",
    "tuning_cv_results['Tuning Stage 2'] = [\"-\",\"-\",\"-\",\"-\",tuned[0].best_score_.round(2),\"-\"]\n",
    "print tuning_cv_results"
   ]
  },
  {
   "cell_type": "code",
   "execution_count": 50,
   "metadata": {
    "collapsed": false
   },
   "outputs": [
    {
     "name": "stdout",
     "output_type": "stream",
     "text": [
      "         F1 Score  Accuracy  Kappa  Log Loss  Score  Hinge Loss  Fbeta Score  \\\n",
      "XGBoost      0.66       0.7   0.28      1.71   0.66        0.71         0.65   \n",
      "\n",
      "         Hamming Loss  Precision  Recall Score  \n",
      "XGBoost           0.3       0.64           0.7  \n",
      "0.670468923186\n",
      "{'xgb__gamma': 0.0}\n",
      "                     Initial Scores Tuning Stage 1 Tuning Stage 2  \\\n",
      "Random Forest                  0.60              -              -   \n",
      "Logistic Regression            0.58              -              -   \n",
      "KMeans                         0.42              -              -   \n",
      "Support Vector                 0.54              -              -   \n",
      "XGBoost                        0.58           0.64           0.67   \n",
      "Naive Bayes                    0.51              -              -   \n",
      "\n",
      "                    Tuning Stage 3  \n",
      "Random Forest                    -  \n",
      "Logistic Regression              -  \n",
      "KMeans                           -  \n",
      "Support Vector                   -  \n",
      "XGBoost                       0.67  \n",
      "Naive Bayes                      -  \n"
     ]
    }
   ],
   "source": [
    "xgb = XGBClassifier(learning_rate=0.1,n_estimators=670,max_depth=3,min_child_weight=2,seed=0)\n",
    "xgb_params_cv = {'xgb__gamma': [i/10.0 for i in range(0,5)]}\n",
    "params = {'xgb_params':xgb_params_cv}\n",
    "pipe = {'xgb_pipe':Pipeline([('xgb',xgb)])}\n",
    "\n",
    "tuned_scoring_grid, tuned = evaluate(X_train_kbest_xgb,y_train_prot,X_valid_kbest_xgb,y_valid_prot,'f1_weighted',\n",
    "                                     params,pipe)\n",
    "\n",
    "print tuned_scoring_grid\n",
    "\n",
    "for i in tuned:\n",
    "    print i.best_score_\n",
    "    print i.best_params_\n",
    "    \n",
    "tuning_cv_results['Tuning Stage 3'] = [\"-\",\"-\",\"-\",\"-\",tuned[0].best_score_.round(2),\"-\"]\n",
    "print tuning_cv_results"
   ]
  },
  {
   "cell_type": "code",
   "execution_count": 51,
   "metadata": {
    "collapsed": false
   },
   "outputs": [
    {
     "name": "stdout",
     "output_type": "stream",
     "text": [
      "         F1 Score  Accuracy  Kappa  Log Loss  Score  Hinge Loss  Fbeta Score  \\\n",
      "XGBoost      0.66       0.7   0.28      1.71   0.66        0.71         0.65   \n",
      "\n",
      "         Hamming Loss  Precision  Recall Score  \n",
      "XGBoost           0.3       0.64           0.7  \n",
      "0.670468923186\n",
      "{'xgb__colsample_bytree': 1, 'xgb__subsample': 1}\n",
      "                     Initial Scores Tuning Stage 1 Tuning Stage 2  \\\n",
      "Random Forest                  0.60              -              -   \n",
      "Logistic Regression            0.58              -              -   \n",
      "KMeans                         0.42              -              -   \n",
      "Support Vector                 0.54              -              -   \n",
      "XGBoost                        0.58           0.64           0.67   \n",
      "Naive Bayes                    0.51              -              -   \n",
      "\n",
      "                    Tuning Stage 3 Tuning Stage 4  \n",
      "Random Forest                    -              -  \n",
      "Logistic Regression              -              -  \n",
      "KMeans                           -              -  \n",
      "Support Vector                   -              -  \n",
      "XGBoost                       0.67           0.67  \n",
      "Naive Bayes                      -              -  \n"
     ]
    }
   ],
   "source": [
    "xgb = XGBClassifier(learning_rate=0.1,n_estimators=670,max_depth=3,min_child_weight=2,gamma=0.0,seed=0)\n",
    "xgb_params_cv = {\"xgb__subsample\": [i for i in range(1,11)],\n",
    "                 \"xgb__colsample_bytree\": [i for i in range(1,11)]}\n",
    "params = {'xgb_params':xgb_params_cv}\n",
    "\n",
    "pipe = {'xgb_pipe':Pipeline([('xgb',xgb)])}\n",
    "\n",
    "tuned_scoring_grid, tuned = evaluate(X_train_kbest_xgb,y_train_prot,X_valid_kbest_xgb,y_valid_prot,'f1_weighted',\n",
    "                                     params,pipe)\n",
    "\n",
    "print tuned_scoring_grid\n",
    "\n",
    "for i in tuned:\n",
    "    print i.best_score_\n",
    "    print i.best_params_ \n",
    "    \n",
    "tuning_cv_results['Tuning Stage 4'] = [\"-\",\"-\",\"-\",\"-\",tuned[0].best_score_.round(2),\"-\"]\n",
    "print tuning_cv_results"
   ]
  },
  {
   "cell_type": "code",
   "execution_count": 52,
   "metadata": {
    "collapsed": false
   },
   "outputs": [
    {
     "name": "stdout",
     "output_type": "stream",
     "text": [
      "         F1 Score  Accuracy  Kappa  Log Loss  Score  Hinge Loss  Fbeta Score  \\\n",
      "XGBoost      0.66       0.7   0.28      1.65   0.66        0.71         0.65   \n",
      "\n",
      "         Hamming Loss  Precision  Recall Score  \n",
      "XGBoost           0.3       0.64           0.7  \n",
      "0.693466758684\n",
      "{'xgb__n_estimators': 850}\n",
      "                     Initial Scores Tuning Stage 1 Tuning Stage 2  \\\n",
      "Random Forest                  0.60              -              -   \n",
      "Logistic Regression            0.58              -              -   \n",
      "KMeans                         0.42              -              -   \n",
      "Support Vector                 0.54              -              -   \n",
      "XGBoost                        0.58           0.64           0.67   \n",
      "Naive Bayes                    0.51              -              -   \n",
      "\n",
      "                    Tuning Stage 3 Tuning Stage 4 Tuning Stage 5  \n",
      "Random Forest                    -              -              -  \n",
      "Logistic Regression              -              -              -  \n",
      "KMeans                           -              -              -  \n",
      "Support Vector                   -              -              -  \n",
      "XGBoost                       0.67           0.67           0.69  \n",
      "Naive Bayes                      -              -              -  \n"
     ]
    }
   ],
   "source": [
    "xgb = XGBClassifier(learning_rate=0.05,max_depth=3,min_child_weight=2,gamma=0.0,seed=0,subsample=1,colsample_bytree=1)\n",
    "xgb_params_cv = {'xgb__n_estimators':range(1,1200)}\n",
    "params = {'xgb_params':xgb_params_cv}\n",
    "pipe = {'xgb_pipe':Pipeline([('xgb',xgb)])}\n",
    "\n",
    "xgb_tuned_scoring_grid, xgb_tuned = evaluate(X_train_kbest_xgb,y_train_prot,X_valid_kbest_xgb,y_valid_prot,\n",
    "                                             'f1_weighted',params,pipe)\n",
    "\n",
    "print xgb_tuned_scoring_grid\n",
    "\n",
    "for i in xgb_tuned:\n",
    "    print i.best_score_\n",
    "    print i.best_params_\n",
    "    \n",
    "tuning_cv_results['Tuning Stage 5'] = [\"-\",\"-\",\"-\",\"-\",xgb_tuned[0].best_score_.round(2),\"-\"]\n",
    "print tuning_cv_results"
   ]
  },
  {
   "cell_type": "code",
   "execution_count": 53,
   "metadata": {
    "collapsed": false
   },
   "outputs": [
    {
     "name": "stdout",
     "output_type": "stream",
     "text": [
      "XGBClassifier(base_score=0.5, colsample_bytree=1, gamma=0.0,\n",
      "       learning_rate=0.05, max_delta_step=0, max_depth=3,\n",
      "       min_child_weight=2, n_estimators=850, nthread=-1,\n",
      "       objective='multi:softprob', seed=0, silent=True, subsample=1)\n"
     ]
    }
   ],
   "source": [
    "for i in xgb_tuned:\n",
    "    xgb_tuned_params = i.best_estimator_.steps[0][1]\n",
    "print xgb_tuned_params"
   ]
  },
  {
   "cell_type": "code",
   "execution_count": 54,
   "metadata": {
    "collapsed": false
   },
   "outputs": [
    {
     "name": "stdout",
     "output_type": "stream",
     "text": [
      "         F1 Score  Accuracy  Kappa  Log Loss  Score  Hinge Loss  Fbeta Score  \\\n",
      "XGBoost      0.66       0.7   0.28      1.65   0.66        0.71         0.65   \n",
      "\n",
      "         Hamming Loss  Precision  Recall Score  \n",
      "XGBoost           0.3       0.64           0.7  \n"
     ]
    }
   ],
   "source": [
    "#Final Classifier test set scores\n",
    "xgb_final_classifier = xgb_tuned[0]\n",
    "final_models_use = ['XGBoost']\n",
    "final_models = [xgb_final_classifier]\n",
    "final_classifier_scores = pd.DataFrame(index = final_models_use)\n",
    "final_test_scores = create_scoring_grid(X_valid_kbest_xgb,y_valid_prot,final_classifier_scores,final_models)\n",
    "print final_test_scores"
   ]
  },
  {
   "cell_type": "code",
   "execution_count": 55,
   "metadata": {
    "collapsed": false
   },
   "outputs": [
    {
     "name": "stdout",
     "output_type": "stream",
     "text": [
      "               F1 Score  Accuracy  Kappa  Log Loss  Score  Hinge Loss  \\\n",
      "Random Forest      0.53      0.67      0      0.92   0.53        0.83   \n",
      "\n",
      "               Fbeta Score  Hamming Loss  Precision  Recall Score  \n",
      "Random Forest         0.48          0.33       0.44          0.67  \n",
      "0.506982600733\n",
      "{'rfc__n_estimators': 103}\n",
      "                     Initial Scores Tuning Stage 1 Tuning Stage 2  \\\n",
      "Random Forest                  0.60           0.51              -   \n",
      "Logistic Regression            0.58              -              -   \n",
      "KMeans                         0.42              -              -   \n",
      "Support Vector                 0.54              -              -   \n",
      "XGBoost                        0.58           0.64           0.67   \n",
      "Naive Bayes                    0.51              -              -   \n",
      "\n",
      "                    Tuning Stage 3 Tuning Stage 4 Tuning Stage 5  \n",
      "Random Forest                    -              -              -  \n",
      "Logistic Regression              -              -              -  \n",
      "KMeans                           -              -              -  \n",
      "Support Vector                   -              -              -  \n",
      "XGBoost                       0.67           0.67           0.69  \n",
      "Naive Bayes                      -              -              -  \n"
     ]
    },
    {
     "name": "stderr",
     "output_type": "stream",
     "text": [
      "/Users/WonderWaffle/anaconda/lib/python2.7/site-packages/ipykernel/__main__.py:16: SettingWithCopyWarning: \n",
      "A value is trying to be set on a copy of a slice from a DataFrame\n",
      "\n",
      "See the caveats in the documentation: http://pandas.pydata.org/pandas-docs/stable/indexing.html#indexing-view-versus-copy\n"
     ]
    }
   ],
   "source": [
    "#tune model 2, random forest\n",
    "rfc = RandomForestClassifier(random_state=0)\n",
    "rfc_params_cv = {'rfc__n_estimators':range(100,200)}\n",
    "params = {'rfc_params':rfc_params_cv}\n",
    "pipe = {'rfc_pipe':Pipeline([('rfc',rfc)])}\n",
    "\n",
    "tuned_scoring_grid, tuned = evaluate(X_train_kbest_rfc,y_train_prot,X_valid_kbest_rfc,\n",
    "                                                          y_valid_prot,'f1_weighted',params,pipe)\n",
    "\n",
    "print tuned_scoring_grid\n",
    "\n",
    "for i in tuned:\n",
    "    print i.best_score_\n",
    "    print i.best_params_\n",
    "    \n",
    "tuning_cv_results['Tuning Stage 1']['Random Forest'] = tuned[0].best_score_.round(2)\n",
    "print tuning_cv_results"
   ]
  },
  {
   "cell_type": "code",
   "execution_count": 56,
   "metadata": {
    "collapsed": false
   },
   "outputs": [
    {
     "name": "stdout",
     "output_type": "stream",
     "text": [
      "               F1 Score  Accuracy  Kappa  Log Loss  Score  Hinge Loss  \\\n",
      "Random Forest      0.58      0.67   0.08      1.12   0.58        0.76   \n",
      "\n",
      "               Fbeta Score  Hamming Loss  Precision  Recall Score  \n",
      "Random Forest         0.57          0.33       0.58          0.67  \n",
      "0.536728395062\n",
      "{'rfc__max_features': None, 'rfc__min_samples_leaf': 1}\n",
      "                     Initial Scores Tuning Stage 1 Tuning Stage 2  \\\n",
      "Random Forest                  0.60           0.51           0.54   \n",
      "Logistic Regression            0.58              -              -   \n",
      "KMeans                         0.42              -              -   \n",
      "Support Vector                 0.54              -              -   \n",
      "XGBoost                        0.58           0.64           0.67   \n",
      "Naive Bayes                    0.51              -              -   \n",
      "\n",
      "                    Tuning Stage 3 Tuning Stage 4 Tuning Stage 5  \n",
      "Random Forest                    -              -              -  \n",
      "Logistic Regression              -              -              -  \n",
      "KMeans                           -              -              -  \n",
      "Support Vector                   -              -              -  \n",
      "XGBoost                       0.67           0.67           0.69  \n",
      "Naive Bayes                      -              -              -  \n"
     ]
    },
    {
     "name": "stderr",
     "output_type": "stream",
     "text": [
      "/Users/WonderWaffle/anaconda/lib/python2.7/site-packages/ipykernel/__main__.py:16: SettingWithCopyWarning: \n",
      "A value is trying to be set on a copy of a slice from a DataFrame\n",
      "\n",
      "See the caveats in the documentation: http://pandas.pydata.org/pandas-docs/stable/indexing.html#indexing-view-versus-copy\n"
     ]
    }
   ],
   "source": [
    "rfc = RandomForestClassifier(random_state=0,n_estimators=103)\n",
    "rfc_params_cv = {'rfc__max_features':[\"sqrt\",None,'auto',0.2],\n",
    "                 'rfc__min_samples_leaf':range(1,11)}\n",
    "params = {'rfc_params':rfc_params_cv}\n",
    "pipe = {'rfc_pipe':Pipeline([('rfc',rfc)])}\n",
    "\n",
    "tuned_scoring_grid, tuned = evaluate(X_train_kbest_rfc,y_train_prot,X_valid_kbest_rfc,\n",
    "                                                          y_valid_prot,'f1_weighted',params,pipe)\n",
    "\n",
    "print tuned_scoring_grid\n",
    "\n",
    "for i in tuned:\n",
    "    print i.best_score_\n",
    "    print i.best_params_\n",
    "    \n",
    "tuning_cv_results['Tuning Stage 2']['Random Forest'] = tuned[0].best_score_.round(2)\n",
    "print tuning_cv_results"
   ]
  },
  {
   "cell_type": "code",
   "execution_count": 57,
   "metadata": {
    "collapsed": false
   },
   "outputs": [
    {
     "name": "stdout",
     "output_type": "stream",
     "text": [
      "               F1 Score  Accuracy  Kappa  Log Loss  Score  Hinge Loss  \\\n",
      "Random Forest      0.58      0.67   0.08      1.03   0.58        0.77   \n",
      "\n",
      "               Fbeta Score  Hamming Loss  Precision  Recall Score  \n",
      "Random Forest         0.57          0.33       0.58          0.67  \n",
      "0.57075617284\n",
      "{'rfc__min_samples_split': 7, 'rfc__max_depth': 3}\n",
      "                     Initial Scores Tuning Stage 1 Tuning Stage 2  \\\n",
      "Random Forest                  0.60           0.51           0.54   \n",
      "Logistic Regression            0.58              -              -   \n",
      "KMeans                         0.42              -              -   \n",
      "Support Vector                 0.54              -              -   \n",
      "XGBoost                        0.58           0.64           0.67   \n",
      "Naive Bayes                    0.51              -              -   \n",
      "\n",
      "                    Tuning Stage 3 Tuning Stage 4 Tuning Stage 5  \n",
      "Random Forest                 0.54              -              -  \n",
      "Logistic Regression              -              -              -  \n",
      "KMeans                           -              -              -  \n",
      "Support Vector                   -              -              -  \n",
      "XGBoost                       0.67           0.67           0.69  \n",
      "Naive Bayes                      -              -              -  \n"
     ]
    },
    {
     "name": "stderr",
     "output_type": "stream",
     "text": [
      "/Users/WonderWaffle/anaconda/lib/python2.7/site-packages/ipykernel/__main__.py:16: SettingWithCopyWarning: \n",
      "A value is trying to be set on a copy of a slice from a DataFrame\n",
      "\n",
      "See the caveats in the documentation: http://pandas.pydata.org/pandas-docs/stable/indexing.html#indexing-view-versus-copy\n"
     ]
    }
   ],
   "source": [
    "rfc = RandomForestClassifier(random_state=0,n_estimators=103,max_features=None,min_samples_leaf=1)\n",
    "rfc_params_cv = {'rfc__min_samples_split':range(1,11),\n",
    "                 'rfc__max_depth':range(1,11)}\n",
    "params = {'rfc_params':rfc_params_cv}\n",
    "pipe = {'rfc_pipe':Pipeline([('rfc',rfc)])}\n",
    "\n",
    "rfc_tuned_scoring_grid, rfc_tuned= evaluate(X_train_kbest_rfc,y_train_prot,X_valid_kbest_rfc,y_valid_prot,\n",
    "                                            'f1_weighted',params,pipe)\n",
    "\n",
    "print rfc_tuned_scoring_grid\n",
    "\n",
    "for i in rfc_tuned:\n",
    "    print i.best_score_\n",
    "    print i.best_params_\n",
    "    \n",
    "tuning_cv_results['Tuning Stage 3']['Random Forest'] = tuned[0].best_score_.round(2)\n",
    "print tuning_cv_results"
   ]
  },
  {
   "cell_type": "code",
   "execution_count": 58,
   "metadata": {
    "collapsed": false
   },
   "outputs": [
    {
     "name": "stdout",
     "output_type": "stream",
     "text": [
      "RandomForestClassifier(bootstrap=True, class_weight=None, criterion='gini',\n",
      "            max_depth=3, max_features=None, max_leaf_nodes=None,\n",
      "            min_impurity_split=1e-07, min_samples_leaf=1,\n",
      "            min_samples_split=7, min_weight_fraction_leaf=0.0,\n",
      "            n_estimators=103, n_jobs=1, oob_score=False, random_state=0,\n",
      "            verbose=0, warm_start=False)\n"
     ]
    }
   ],
   "source": [
    "for i in rfc_tuned:\n",
    "    rfc_best_params = i.best_estimator_.steps[0][1]\n",
    "print rfc_best_params"
   ]
  },
  {
   "cell_type": "code",
   "execution_count": 59,
   "metadata": {
    "collapsed": false
   },
   "outputs": [
    {
     "name": "stdout",
     "output_type": "stream",
     "text": [
      "                          F1 Score  Accuracy  Kappa  Log Loss  Score  \\\n",
      "XGBoost                       0.66      0.70   0.28      1.65   0.66   \n",
      "Random Forest Classifier      0.58      0.67   0.08      1.03   0.58   \n",
      "\n",
      "                          Hinge Loss  Fbeta Score  Hamming Loss  Precision  \\\n",
      "XGBoost                         0.71         0.65          0.30       0.64   \n",
      "Random Forest Classifier        0.77         0.57          0.33       0.58   \n",
      "\n",
      "                          Recall Score  \n",
      "XGBoost                           0.70  \n",
      "Random Forest Classifier          0.67  \n"
     ]
    }
   ],
   "source": [
    "#Final Classifier \n",
    "rfc_final_classifier = rfc_tuned[0]\n",
    "final_models_use = ['Random Forest Classifier']\n",
    "final_models = [rfc_final_classifier]\n",
    "final_classifier_scores = pd.DataFrame(index = final_models_use)\n",
    "scoring_temp = create_scoring_grid(X_valid_kbest_rfc,y_valid_prot,final_classifier_scores,final_models)\n",
    "final_test_scores = pd.concat([final_test_scores,scoring_temp])\n",
    "print final_test_scores"
   ]
  },
  {
   "cell_type": "code",
   "execution_count": 60,
   "metadata": {
    "collapsed": false
   },
   "outputs": [
    {
     "name": "stdout",
     "output_type": "stream",
     "text": [
      "                     F1 Score  Accuracy  Kappa  Log Loss  Score  Hinge Loss  \\\n",
      "Logistic Regression      0.56      0.56    0.1      0.96   0.56        0.98   \n",
      "\n",
      "                     Fbeta Score  Hamming Loss  Precision  Recall Score  \n",
      "Logistic Regression         0.56          0.44       0.57          0.56  \n",
      "0.705218855219\n",
      "{'lgr__C': 1.0, 'lgr__penalty': 'l2'}\n",
      "                     Initial Scores Tuning Stage 1 Tuning Stage 2  \\\n",
      "Random Forest                  0.60           0.51           0.54   \n",
      "Logistic Regression            0.58           0.54              -   \n",
      "KMeans                         0.42              -              -   \n",
      "Support Vector                 0.54              -              -   \n",
      "XGBoost                        0.58           0.64           0.67   \n",
      "Naive Bayes                    0.51              -              -   \n",
      "\n",
      "                    Tuning Stage 3 Tuning Stage 4 Tuning Stage 5  \n",
      "Random Forest                 0.54              -              -  \n",
      "Logistic Regression              -              -              -  \n",
      "KMeans                           -              -              -  \n",
      "Support Vector                   -              -              -  \n",
      "XGBoost                       0.67           0.67           0.69  \n",
      "Naive Bayes                      -              -              -  \n"
     ]
    },
    {
     "name": "stderr",
     "output_type": "stream",
     "text": [
      "/Users/WonderWaffle/anaconda/lib/python2.7/site-packages/ipykernel/__main__.py:17: SettingWithCopyWarning: \n",
      "A value is trying to be set on a copy of a slice from a DataFrame\n",
      "\n",
      "See the caveats in the documentation: http://pandas.pydata.org/pandas-docs/stable/indexing.html#indexing-view-versus-copy\n"
     ]
    }
   ],
   "source": [
    "#train model 3, logistic regression\n",
    "lgr = LogisticRegression(random_state=0,class_weight='balanced')\n",
    "lgr_params_cv = {'lgr__penalty':['l1','l2'],\n",
    "                 \"lgr__C\":[0.7,0.8,0.9,1.0,1.1,1.2,1.3]}\n",
    "params = {'lgr_params':lgr_params_cv}\n",
    "pipe = {'lgr_pipe':Pipeline([('lgr',lgr)])}\n",
    "\n",
    "lgr_tuned_scoring_grid, lgr_tuned = evaluate(X_train_kbest_lgr,y_train_prot,X_valid_kbest_lgr,y_valid_prot,\n",
    "                                             'f1_weighted',params,pipe)\n",
    "\n",
    "print lgr_tuned_scoring_grid\n",
    "\n",
    "for i in lgr_tuned:\n",
    "    print i.best_score_\n",
    "    print i.best_params_\n",
    "    \n",
    "tuning_cv_results['Tuning Stage 1']['Logistic Regression'] = tuned[0].best_score_.round(2)\n",
    "print tuning_cv_results"
   ]
  },
  {
   "cell_type": "code",
   "execution_count": 61,
   "metadata": {
    "collapsed": false
   },
   "outputs": [
    {
     "name": "stdout",
     "output_type": "stream",
     "text": [
      "LogisticRegression(C=1.0, class_weight='balanced', dual=False,\n",
      "          fit_intercept=True, intercept_scaling=1, max_iter=100,\n",
      "          multi_class='ovr', n_jobs=1, penalty='l2', random_state=0,\n",
      "          solver='liblinear', tol=0.0001, verbose=0, warm_start=False)\n"
     ]
    }
   ],
   "source": [
    "for i in lgr_tuned:\n",
    "    lgr = i.best_estimator_.steps[0][1]\n",
    "print lgr"
   ]
  },
  {
   "cell_type": "code",
   "execution_count": 62,
   "metadata": {
    "collapsed": false
   },
   "outputs": [
    {
     "name": "stdout",
     "output_type": "stream",
     "text": [
      "                          F1 Score  Accuracy  Kappa  Log Loss  Score  \\\n",
      "XGBoost                       0.66      0.70   0.28      1.65   0.66   \n",
      "Random Forest Classifier      0.58      0.67   0.08      1.03   0.58   \n",
      "Logistic Regression           0.56      0.56   0.10      0.96   0.56   \n",
      "\n",
      "                          Hinge Loss  Fbeta Score  Hamming Loss  Precision  \\\n",
      "XGBoost                         0.71         0.65          0.30       0.64   \n",
      "Random Forest Classifier        0.77         0.57          0.33       0.58   \n",
      "Logistic Regression             0.98         0.56          0.44       0.57   \n",
      "\n",
      "                          Recall Score  \n",
      "XGBoost                           0.70  \n",
      "Random Forest Classifier          0.67  \n",
      "Logistic Regression               0.56  \n"
     ]
    }
   ],
   "source": [
    "#Final Classifier \n",
    "lgr_final_classifier = lgr_tuned[0]\n",
    "final_models_use = ['Logistic Regression']\n",
    "final_models = [lgr_final_classifier]\n",
    "final_classifier_scores = pd.DataFrame(index = final_models_use)\n",
    "scoring_temp = create_scoring_grid(X_valid_kbest_lgr,y_valid_prot,final_classifier_scores,final_models)\n",
    "final_test_scores = pd.concat([final_test_scores,scoring_temp])\n",
    "print final_test_scores"
   ]
  },
  {
   "cell_type": "code",
   "execution_count": 63,
   "metadata": {
    "collapsed": false
   },
   "outputs": [
    {
     "name": "stdout",
     "output_type": "stream",
     "text": [
      "                F1 Score  Accuracy  Kappa  Log Loss  Score  Hinge Loss  \\\n",
      "Support Vector      0.52      0.63  -0.04      0.82   0.52        0.88   \n",
      "\n",
      "                Fbeta Score  Hamming Loss  Precision  Recall Score  \n",
      "Support Vector         0.46          0.37       0.44          0.63  \n",
      "0.613647342995\n",
      "{'svm__kernel': 'poly'}\n",
      "                     Initial Scores Tuning Stage 1 Tuning Stage 2  \\\n",
      "Random Forest                  0.60           0.51           0.54   \n",
      "Logistic Regression            0.58           0.54              -   \n",
      "KMeans                         0.42              -              -   \n",
      "Support Vector                 0.54           0.61              -   \n",
      "XGBoost                        0.58           0.64           0.67   \n",
      "Naive Bayes                    0.51              -              -   \n",
      "\n",
      "                    Tuning Stage 3 Tuning Stage 4 Tuning Stage 5  \n",
      "Random Forest                 0.54              -              -  \n",
      "Logistic Regression              -              -              -  \n",
      "KMeans                           -              -              -  \n",
      "Support Vector                   -              -              -  \n",
      "XGBoost                       0.67           0.67           0.69  \n",
      "Naive Bayes                      -              -              -  \n"
     ]
    },
    {
     "name": "stderr",
     "output_type": "stream",
     "text": [
      "/Users/WonderWaffle/anaconda/lib/python2.7/site-packages/ipykernel/__main__.py:16: SettingWithCopyWarning: \n",
      "A value is trying to be set on a copy of a slice from a DataFrame\n",
      "\n",
      "See the caveats in the documentation: http://pandas.pydata.org/pandas-docs/stable/indexing.html#indexing-view-versus-copy\n"
     ]
    }
   ],
   "source": [
    "#Final model, SVM\n",
    "svm = SVC(random_state=0,probability = True,class_weight='balanced')\n",
    "svm_params_cv = {\"svm__kernel\":['poly','rbf','linear','sigmoid']}\n",
    "params = {'svm_params':svm_params_cv}\n",
    "pipe = {'svm_pipe':Pipeline([('svm',svm)])}\n",
    "\n",
    "tuned_scoring_grid, tuned = evaluate(X_train_kbest_svm,y_train_prot,X_valid_kbest_svm,y_valid_prot,'f1_weighted',\n",
    "                                     params,pipe)\n",
    "\n",
    "print tuned_scoring_grid\n",
    "\n",
    "for i in tuned:\n",
    "    print i.best_score_\n",
    "    print i.best_params_\n",
    "    \n",
    "tuning_cv_results['Tuning Stage 1']['Support Vector'] = tuned[0].best_score_.round(2)\n",
    "print tuning_cv_results"
   ]
  },
  {
   "cell_type": "code",
   "execution_count": 64,
   "metadata": {
    "collapsed": false
   },
   "outputs": [
    {
     "name": "stdout",
     "output_type": "stream",
     "text": [
      "                F1 Score  Accuracy  Kappa  Log Loss  Score  Hinge Loss  \\\n",
      "Support Vector      0.52      0.63  -0.06      0.82   0.52        0.88   \n",
      "\n",
      "                Fbeta Score  Hamming Loss  Precision  Recall Score  \n",
      "Support Vector         0.46          0.37       0.44          0.63  \n",
      "0.68309178744\n",
      "{'svm__C': 0.001}\n",
      "                     Initial Scores Tuning Stage 1 Tuning Stage 2  \\\n",
      "Random Forest                  0.60           0.51           0.54   \n",
      "Logistic Regression            0.58           0.54              -   \n",
      "KMeans                         0.42              -              -   \n",
      "Support Vector                 0.54           0.61           0.68   \n",
      "XGBoost                        0.58           0.64           0.67   \n",
      "Naive Bayes                    0.51              -              -   \n",
      "\n",
      "                    Tuning Stage 3 Tuning Stage 4 Tuning Stage 5  \n",
      "Random Forest                 0.54              -              -  \n",
      "Logistic Regression              -              -              -  \n",
      "KMeans                           -              -              -  \n",
      "Support Vector                   -              -              -  \n",
      "XGBoost                       0.67           0.67           0.69  \n",
      "Naive Bayes                      -              -              -  \n"
     ]
    },
    {
     "name": "stderr",
     "output_type": "stream",
     "text": [
      "/Users/WonderWaffle/anaconda/lib/python2.7/site-packages/ipykernel/__main__.py:15: SettingWithCopyWarning: \n",
      "A value is trying to be set on a copy of a slice from a DataFrame\n",
      "\n",
      "See the caveats in the documentation: http://pandas.pydata.org/pandas-docs/stable/indexing.html#indexing-view-versus-copy\n"
     ]
    }
   ],
   "source": [
    "svm = SVC(random_state=0,kernel='poly',class_weight='balanced',probability=True)\n",
    "svm_params_cv = {\"svm__C\":[0.001,0.01,0.1]}\n",
    "params = {'svm_params':svm_params_cv}\n",
    "pipe = {'svm_pipe':Pipeline([('svm',svm)])}\n",
    "\n",
    "tuned_scoring_grid, tuned = evaluate(X_train_kbest_svm,y_train_prot,X_valid_kbest_svm,y_valid_prot,'f1_weighted',\n",
    "                                         params,pipe)\n",
    "\n",
    "print tuned_scoring_grid\n",
    "\n",
    "for i in tuned:\n",
    "    print i.best_score_\n",
    "    print i.best_params_\n",
    "    \n",
    "tuning_cv_results['Tuning Stage 2']['Support Vector'] = tuned[0].best_score_.round(2)\n",
    "print tuning_cv_results"
   ]
  },
  {
   "cell_type": "code",
   "execution_count": 65,
   "metadata": {
    "collapsed": false
   },
   "outputs": [
    {
     "name": "stdout",
     "output_type": "stream",
     "text": [
      "                F1 Score  Accuracy  Kappa  Log Loss  Score  Hinge Loss  \\\n",
      "Support Vector      0.52      0.63  -0.06      0.82   0.52        0.88   \n",
      "\n",
      "                Fbeta Score  Hamming Loss  Precision  Recall Score  \n",
      "Support Vector         0.46          0.37       0.44          0.63  \n",
      "0.68309178744\n",
      "{'svm__C': 0.001}\n",
      "                     Initial Scores Tuning Stage 1 Tuning Stage 2  \\\n",
      "Random Forest                  0.60           0.51           0.54   \n",
      "Logistic Regression            0.58           0.54              -   \n",
      "KMeans                         0.42              -              -   \n",
      "Support Vector                 0.54           0.61           0.68   \n",
      "XGBoost                        0.58           0.64           0.67   \n",
      "Naive Bayes                    0.51              -              -   \n",
      "\n",
      "                    Tuning Stage 3 Tuning Stage 4 Tuning Stage 5  \n",
      "Random Forest                 0.54              -              -  \n",
      "Logistic Regression              -              -              -  \n",
      "KMeans                           -              -              -  \n",
      "Support Vector                0.68              -              -  \n",
      "XGBoost                       0.67           0.67           0.69  \n",
      "Naive Bayes                      -              -              -  \n"
     ]
    },
    {
     "name": "stderr",
     "output_type": "stream",
     "text": [
      "/Users/WonderWaffle/anaconda/lib/python2.7/site-packages/ipykernel/__main__.py:15: SettingWithCopyWarning: \n",
      "A value is trying to be set on a copy of a slice from a DataFrame\n",
      "\n",
      "See the caveats in the documentation: http://pandas.pydata.org/pandas-docs/stable/indexing.html#indexing-view-versus-copy\n"
     ]
    }
   ],
   "source": [
    "svm = SVC(random_state=0,kernel='poly',C=0.001,class_weight='balanced',probability=True)\n",
    "svm_params_cv = {\"svm__gamma\":[0.05,0.1,0.3,0.5,0.7,0.9,1.0,'auto']}\n",
    "params = {'svm_params':svm_params_cv}\n",
    "pipe = {'svm_pipe':Pipeline([('svm',svm)])}\n",
    "\n",
    "svm_tuned_scoring_grid, svm_tuned = evaluate(X_train_kbest_svm,y_train_prot,X_valid_kbest_svm,y_valid_prot,\n",
    "                                             'f1_weighted',params,pipe)\n",
    "\n",
    "print tuned_scoring_grid\n",
    "\n",
    "for i in tuned:\n",
    "    print i.best_score_\n",
    "    print i.best_params_\n",
    "    \n",
    "tuning_cv_results['Tuning Stage 3']['Support Vector'] = tuned[0].best_score_.round(2)\n",
    "print tuning_cv_results"
   ]
  },
  {
   "cell_type": "code",
   "execution_count": 66,
   "metadata": {
    "collapsed": false
   },
   "outputs": [
    {
     "name": "stdout",
     "output_type": "stream",
     "text": [
      "SVC(C=0.001, cache_size=200, class_weight='balanced', coef0=0.0,\n",
      "  decision_function_shape=None, degree=3, gamma=0.1, kernel='poly',\n",
      "  max_iter=-1, probability=True, random_state=0, shrinking=True, tol=0.001,\n",
      "  verbose=False)\n"
     ]
    }
   ],
   "source": [
    "for i in svm_tuned:\n",
    "    svm = i.best_estimator_.steps[0][1]\n",
    "print svm"
   ]
  },
  {
   "cell_type": "code",
   "execution_count": 67,
   "metadata": {
    "collapsed": false
   },
   "outputs": [
    {
     "name": "stdout",
     "output_type": "stream",
     "text": [
      "                          F1 Score  Accuracy  Kappa  Log Loss  Score  \\\n",
      "XGBoost                       0.66      0.70   0.28      1.65   0.66   \n",
      "Random Forest Classifier      0.58      0.67   0.08      1.03   0.58   \n",
      "Logistic Regression           0.56      0.56   0.10      0.96   0.56   \n",
      "Support Vector                0.52      0.63  -0.06      0.82   0.52   \n",
      "\n",
      "                          Hinge Loss  Fbeta Score  Hamming Loss  Precision  \\\n",
      "XGBoost                         0.71         0.65          0.30       0.64   \n",
      "Random Forest Classifier        0.77         0.57          0.33       0.58   \n",
      "Logistic Regression             0.98         0.56          0.44       0.57   \n",
      "Support Vector                  0.87         0.46          0.37       0.44   \n",
      "\n",
      "                          Recall Score  \n",
      "XGBoost                           0.70  \n",
      "Random Forest Classifier          0.67  \n",
      "Logistic Regression               0.56  \n",
      "Support Vector                    0.63  \n"
     ]
    }
   ],
   "source": [
    "#Final Classifier \n",
    "svm_final_classifier = svm_tuned[0]\n",
    "final_models_use = ['Support Vector']\n",
    "final_models = [svm_final_classifier]\n",
    "final_classifier_scores = pd.DataFrame(index = final_models_use)\n",
    "scoring_temp = create_scoring_grid(X_valid_kbest_svm,y_valid_prot,final_classifier_scores,final_models)\n",
    "final_test_scores = pd.concat([final_test_scores,scoring_temp])\n",
    "print final_test_scores"
   ]
  },
  {
   "cell_type": "code",
   "execution_count": 68,
   "metadata": {
    "collapsed": false
   },
   "outputs": [
    {
     "name": "stdout",
     "output_type": "stream",
     "text": [
      "                          F1 Score  Accuracy  Kappa  Log Loss  Score  \\\n",
      "Dummy Classifier              0.53      0.67      0     11.51   0.67   \n",
      "\n",
      "                          Hinge Loss  Fbeta Score  Hamming Loss  Precision  \\\n",
      "Dummy Classifier                0.67         0.48          0.33       0.44   \n",
      "\n",
      "                          Recall Score  \n",
      "Dummy Classifier                  0.67  \n",
      "                          F1 Score  Accuracy  Kappa  Log Loss  Score  \\\n",
      "XGBoost                       0.66      0.70   0.28      1.65   0.66   \n",
      "Random Forest Classifier      0.58      0.67   0.08      1.03   0.58   \n",
      "Logistic Regression           0.56      0.56   0.10      0.96   0.56   \n",
      "Support Vector                0.52      0.63  -0.06      0.82   0.52   \n",
      "Naive Bayes                   0.48      0.56  -0.17     15.35   0.56   \n",
      "Dummy Classifier              0.53      0.67   0.00     11.51   0.67   \n",
      "\n",
      "                          Hinge Loss  Fbeta Score  Hamming Loss  Precision  \\\n",
      "XGBoost                         0.71         0.65          0.30       0.64   \n",
      "Random Forest Classifier        0.77         0.57          0.33       0.58   \n",
      "Logistic Regression             0.98         0.56          0.44       0.57   \n",
      "Support Vector                  0.87         0.46          0.37       0.44   \n",
      "Naive Bayes                     0.89         0.44          0.44       0.42   \n",
      "Dummy Classifier                0.67         0.48          0.33       0.44   \n",
      "\n",
      "                          Recall Score  \n",
      "XGBoost                           0.70  \n",
      "Random Forest Classifier          0.67  \n",
      "Logistic Regression               0.56  \n",
      "Support Vector                    0.63  \n",
      "Naive Bayes                       0.56  \n",
      "Dummy Classifier                  0.67  \n"
     ]
    }
   ],
   "source": [
    "final_models = [gnb_trained]\n",
    "final_classifier_scores = pd.DataFrame(index = ['Naive Bayes'])\n",
    "scoring_temp = create_scoring_grid(X_valid_prot,y_valid_prot,final_classifier_scores,final_models)\n",
    "final_test_scores = pd.concat([final_test_scores,scoring_temp])\n",
    "dummy_clf = DummyClassifier(strategy = 'most_frequent').fit(X_train_prot,y_train_prot)\n",
    "final_models = [dummy_clf]\n",
    "final_classifier_scores = pd.DataFrame(index = ['Dummy Classifier        '])\n",
    "scoring_temp = create_scoring_grid(X_valid_prot,y_valid_prot,final_classifier_scores,final_models)\n",
    "print scoring_temp\n",
    "final_test_scores = pd.concat([final_test_scores,scoring_temp])\n",
    "print final_test_scores"
   ]
  },
  {
   "cell_type": "code",
   "execution_count": 69,
   "metadata": {
    "collapsed": false
   },
   "outputs": [
    {
     "data": {
      "text/plain": [
       "<matplotlib.text.Text at 0x11c6657d0>"
      ]
     },
     "execution_count": 69,
     "metadata": {},
     "output_type": "execute_result"
    },
    {
     "data": {
      "image/png": "[encoded data removed]",
      "text/plain": [
       "<matplotlib.figure.Figure at 0x11a9d5310>"
      ]
     },
     "metadata": {},
     "output_type": "display_data"
    }
   ],
   "source": [
    "#Accuracy Score\n",
    "final_test_model_accuracy = final_test_scores['Kappa']\n",
    "\n",
    "final_test_model_accuracy = final_test_model_accuracy.plot(kind='bar',color=['b','b','b','b','b','r'])\n",
    "final_test_model_accuracy.set_xlabel(\"Model\")\n",
    "final_test_model_accuracy.set_ylabel(\"Cohen Kappa Score\")\n",
    "final_test_model_accuracy.set_title(\"Cohen Kappa Score On Test Set Of Each Model\")"
   ]
  },
  {
   "cell_type": "code",
   "execution_count": 70,
   "metadata": {
    "collapsed": false
   },
   "outputs": [
    {
     "data": {
      "text/plain": [
       "<matplotlib.text.Text at 0x115d7ae90>"
      ]
     },
     "execution_count": 70,
     "metadata": {},
     "output_type": "execute_result"
    },
    {
     "data": {
      "image/png": "[encoded data removed]",
      "text/plain": [
       "<matplotlib.figure.Figure at 0x11a61a290>"
      ]
     },
     "metadata": {},
     "output_type": "display_data"
    }
   ],
   "source": [
    "#F1 Score\n",
    "final_test_model_f1score = final_test_scores['F1 Score']\n",
    "\n",
    "final_test_model_f1score = final_test_model_f1score.plot(kind='bar',color=['b','b','b','b','b','r'])\n",
    "final_test_model_f1score.set_xlabel(\"Model\")\n",
    "final_test_model_f1score.set_ylabel(\"F1 Score\")\n",
    "final_test_model_f1score.set_title(\"F1 Score On Test Set Of Each Model\")"
   ]
  },
  {
   "cell_type": "code",
   "execution_count": 71,
   "metadata": {
    "collapsed": false
   },
   "outputs": [
    {
     "data": {
      "text/plain": [
       "<matplotlib.text.Text at 0x11a694bd0>"
      ]
     },
     "execution_count": 71,
     "metadata": {},
     "output_type": "execute_result"
    },
    {
     "data": {
      "image/png": "[encoded data removed]",
      "text/plain": [
       "<matplotlib.figure.Figure at 0x11b901510>"
      ]
     },
     "metadata": {},
     "output_type": "display_data"
    }
   ],
   "source": [
    "#Log Loss\n",
    "final_test_model_log_loss = final_test_scores['Log Loss']\n",
    "\n",
    "final_test_model_log_loss = final_test_model_log_loss.plot(kind='bar',color=['b','b','b','b','b','r'])\n",
    "final_test_model_log_loss.set_xlabel(\"Model\")\n",
    "final_test_model_log_loss.set_ylabel(\"F1 Score\")\n",
    "final_test_model_log_loss.set_title(\"F1 Score On Test Set Of Each Model\")"
   ]
  },
  {
   "cell_type": "code",
   "execution_count": 72,
   "metadata": {
    "collapsed": false
   },
   "outputs": [
    {
     "name": "stdout",
     "output_type": "stream",
     "text": [
      "Predicted  Stage 1  Stage 2  Stage 3\n",
      "Actual                              \n",
      "Stage 1          0        2        0\n",
      "Stage 2          0       16        2\n",
      "Stage 3          0        4        3\n"
     ]
    }
   ],
   "source": [
    "from sklearn.metrics import confusion_matrix\n",
    "confusion_matrix_final_model = pd.DataFrame(confusion_matrix(y_valid_prot,\n",
    "                                                             xgb_final_classifier.predict(X_valid_kbest_xgb)),\n",
    "                                            index=['Stage 1','Stage 2','Stage 3'])\n",
    "confusion_matrix_final_model.columns = ['Stage 1','Stage 2','Stage 3']\n",
    "confusion_matrix_final_model.index.rename(\"Actual\", inplace = True)\n",
    "confusion_matrix_final_model.columns.rename(\"Predicted\", inplace = True)\n",
    "print confusion_matrix_final_model"
   ]
  },
  {
   "cell_type": "code",
   "execution_count": 73,
   "metadata": {
    "collapsed": true
   },
   "outputs": [],
   "source": [
    "#Focus is far too much on the most populous Stage"
   ]
  }
 ],
 "metadata": {
  "kernelspec": {
   "display_name": "Python 2",
   "language": "python",
   "name": "python2"
  },
  "language_info": {
   "codemirror_mode": {
    "name": "ipython",
    "version": 2
   },
   "file_extension": ".py",
   "mimetype": "text/x-python",
   "name": "python",
   "nbconvert_exporter": "python",
   "pygments_lexer": "ipython2",
   "version": "2.7.12"
  }
 },
 "nbformat": 4,
 "nbformat_minor": 0
}
